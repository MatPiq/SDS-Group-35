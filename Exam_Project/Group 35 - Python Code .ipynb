{
 "cells": [
  {
   "cell_type": "markdown",
   "metadata": {},
   "source": [
    "# Group 35 Python Code"
   ]
  },
  {
   "cell_type": "markdown",
   "metadata": {},
   "source": [
    "## Data Collection"
   ]
  },
  {
   "cell_type": "markdown",
   "metadata": {},
   "source": [
    "### Extracting PDF content from Minutes"
   ]
  },
  {
   "cell_type": "code",
   "execution_count": 1,
   "metadata": {},
   "outputs": [],
   "source": [
    "#Necessary imports\n",
    "import PyPDF2\n",
    "import requests\n",
    "import numpy as np, seaborn as sns, pandas as pd\n",
    "import nltk, nltk.sentiment, sklearn\n",
    "import collections\n",
    "%matplotlib inline"
   ]
  },
  {
   "cell_type": "code",
   "execution_count": 2,
   "metadata": {},
   "outputs": [],
   "source": [
    "#convert list to pd.series\n",
    "\n",
    "#Preprocessing - tokenize and lower case pdf-strings\n",
    "tokenizer = nltk.tokenize.TweetTokenizer()\n",
    "def preprocessing(string):\n",
    "    string = string.lower()\n",
    "    string = tokenizer.tokenize(string)\n",
    "    return string\n",
    "\n",
    "#Apply positive/negative sets on pdf-string\n",
    "#tok_doc1 = doc1_str.apply(preprocessing)\n",
    "\n",
    "def count_dictionary(document_elem, dictionary):\n",
    "    lst = []\n",
    "    for word in document_elem:\n",
    "        if (word in dictionary):\n",
    "            lst.append(word)\n",
    "    return len(lst)"
   ]
  },
  {
   "cell_type": "code",
   "execution_count": 3,
   "metadata": {},
   "outputs": [],
   "source": [
    "#PDF extractor script. Creates a list separated per page.\n",
    "def pdf_extractor(path):\n",
    "    pdf_file = open(path, 'rb')\n",
    "    read_pdf = PyPDF2.PdfFileReader(pdf_file)\n",
    "    number_of_pages = read_pdf.getNumPages()\n",
    "    c = collections.Counter(range(number_of_pages))\n",
    "    res1 = []\n",
    "    for i in range(len(c)):\n",
    "        page = read_pdf.getPage(i)\n",
    "        page_content = page.extractText()\n",
    "        res1.append(page_content)\n",
    "    return res1"
   ]
  },
  {
   "cell_type": "markdown",
   "metadata": {},
   "source": [
    "### Creating Sentiment Variable"
   ]
  },
  {
   "cell_type": "code",
   "execution_count": 18,
   "metadata": {},
   "outputs": [],
   "source": [
    "path_positive = 'https://raw.githubusercontent.com/MatPiq/SDS-Group-35/master/Exam_Project/positive.csv'\n",
    "path_negative = 'https://raw.githubusercontent.com/MatPiq/SDS-Group-35/master/Exam_Project/negative.csv'\n",
    "positive_cb = pd.read_csv(path_positive, sep=';', header=None)\n",
    "negative_cb = pd.read_csv(path_negative, sep=';', header=None)\n",
    "positive_cb = set(positive_cb[0])\n",
    "negative_cb = set(negative_cb[0])\n"
   ]
  },
  {
   "cell_type": "code",
   "execution_count": 20,
   "metadata": {},
   "outputs": [
    {
     "name": "stdout",
     "output_type": "stream",
     "text": [
      "Now treating file: ppp110419e.pdf\n",
      "Iterate: 0\n",
      "Now treating file: ppp121217e.pdf\n",
      "Iterate: 1\n",
      "Now treating file: ppp010917e.pdf\n",
      "Iterate: 2\n",
      "Now treating file: ppp101025e.pdf\n",
      "Iterate: 3\n"
     ]
    },
    {
     "name": "stderr",
     "output_type": "stream",
     "text": [
      "PdfReadWarning: Xref table not zero-indexed. ID numbers for objects will be corrected. [pdf.py:1736]\n"
     ]
    },
    {
     "name": "stdout",
     "output_type": "stream",
     "text": [
      "Now treating file: ppp020318e.pdf\n",
      "Iterate: 4\n",
      "Now treating file: ppp011015e.pdf\n",
      "Iterate: 5\n",
      "Now treating file: ppp171219e.pdf\n",
      "Iterate: 6\n"
     ]
    },
    {
     "name": "stderr",
     "output_type": "stream",
     "text": [
      "PdfReadWarning: Xref table not zero-indexed. ID numbers for objects will be corrected. [pdf.py:1736]\n",
      "PdfReadWarning: Xref table not zero-indexed. ID numbers for objects will be corrected. [pdf.py:1736]\n"
     ]
    },
    {
     "name": "stdout",
     "output_type": "stream",
     "text": [
      "Now treating file: ppp120703e.pdf\n",
      "Iterate: 7\n",
      "Now treating file: ppp000203e.pdf\n",
      "Iterate: 8\n",
      "Now treating file: ppp090210e.pdf\n",
      "Iterate: 9\n"
     ]
    },
    {
     "name": "stderr",
     "output_type": "stream",
     "text": [
      "PdfReadWarning: Xref table not zero-indexed. ID numbers for objects will be corrected. [pdf.py:1736]\n",
      "PdfReadWarning: Xref table not zero-indexed. ID numbers for objects will be corrected. [pdf.py:1736]\n",
      "PdfReadWarning: Xref table not zero-indexed. ID numbers for objects will be corrected. [pdf.py:1736]\n"
     ]
    },
    {
     "name": "stdout",
     "output_type": "stream",
     "text": [
      "Now treating file: ppp160222e.pdf\n",
      "Iterate: 10\n",
      "Now treating file: ppp070906e.pdf\n",
      "Iterate: 11\n"
     ]
    },
    {
     "name": "stderr",
     "output_type": "stream",
     "text": [
      "PdfReadWarning: Xref table not zero-indexed. ID numbers for objects will be corrected. [pdf.py:1736]\n",
      "PdfReadWarning: Xref table not zero-indexed. ID numbers for objects will be corrected. [pdf.py:1736]\n"
     ]
    },
    {
     "name": "stdout",
     "output_type": "stream",
     "text": [
      "Now treating file: ppp130918e.pdf\n",
      "Iterate: 12\n",
      "Now treating file: ppp070619e.pdf\n",
      "Iterate: 13\n"
     ]
    },
    {
     "name": "stderr",
     "output_type": "stream",
     "text": [
      "PdfReadWarning: Xref table not zero-indexed. ID numbers for objects will be corrected. [pdf.py:1736]\n",
      "PdfReadWarning: Xref table not zero-indexed. ID numbers for objects will be corrected. [pdf.py:1736]\n"
     ]
    },
    {
     "name": "stdout",
     "output_type": "stream",
     "text": [
      "Now treating file: ppp060619e.pdf\n",
      "Iterate: 14\n"
     ]
    },
    {
     "name": "stderr",
     "output_type": "stream",
     "text": [
      "PdfReadWarning: Xref table not zero-indexed. ID numbers for objects will be corrected. [pdf.py:1736]\n",
      "PdfReadWarning: Xref table not zero-indexed. ID numbers for objects will be corrected. [pdf.py:1736]\n"
     ]
    },
    {
     "name": "stdout",
     "output_type": "stream",
     "text": [
      "Now treating file: ppp170214e.pdf\n",
      "Iterate: 15\n",
      "Now treating file: ppp090420e.pdf\n",
      "Iterate: 16\n"
     ]
    },
    {
     "name": "stderr",
     "output_type": "stream",
     "text": [
      "PdfReadWarning: Xref table not zero-indexed. ID numbers for objects will be corrected. [pdf.py:1736]\n",
      "PdfReadWarning: Xref table not zero-indexed. ID numbers for objects will be corrected. [pdf.py:1736]\n"
     ]
    },
    {
     "name": "stdout",
     "output_type": "stream",
     "text": [
      "Now treating file: ppp030206e.pdf\n",
      "Iterate: 17\n"
     ]
    },
    {
     "name": "stderr",
     "output_type": "stream",
     "text": [
      "PdfReadWarning: Xref table not zero-indexed. ID numbers for objects will be corrected. [pdf.py:1736]\n"
     ]
    },
    {
     "name": "stdout",
     "output_type": "stream",
     "text": [
      "Now treating file: ppp021114e.pdf\n",
      "Iterate: 18\n",
      "Now treating file: ppp180702e.pdf\n",
      "Iterate: 19\n"
     ]
    },
    {
     "name": "stderr",
     "output_type": "stream",
     "text": [
      "PdfReadWarning: Xref table not zero-indexed. ID numbers for objects will be corrected. [pdf.py:1736]\n"
     ]
    },
    {
     "name": "stdout",
     "output_type": "stream",
     "text": [
      "Now treating file: ppp061025e.pdf\n",
      "Iterate: 20\n"
     ]
    },
    {
     "name": "stderr",
     "output_type": "stream",
     "text": [
      "PdfReadWarning: Xref table not zero-indexed. ID numbers for objects will be corrected. [pdf.py:1736]\n",
      "PdfReadWarning: Xref table not zero-indexed. ID numbers for objects will be corrected. [pdf.py:1736]\n"
     ]
    },
    {
     "name": "stdout",
     "output_type": "stream",
     "text": [
      "Now treating file: ppp190702e.pdf\n",
      "Iterate: 21\n",
      "Now treating file: ppp020704e.pdf\n",
      "Iterate: 22\n",
      "Now treating file: ppp051201e.pdf\n",
      "Iterate: 23\n"
     ]
    },
    {
     "name": "stderr",
     "output_type": "stream",
     "text": [
      "PdfReadWarning: Xref table not zero-indexed. ID numbers for objects will be corrected. [pdf.py:1736]\n",
      "PdfReadWarning: Xref table not zero-indexed. ID numbers for objects will be corrected. [pdf.py:1736]\n"
     ]
    },
    {
     "name": "stdout",
     "output_type": "stream",
     "text": [
      "Now treating file: ppp020207e.pdf\n",
      "Iterate: 24\n",
      "Now treating file: ppp010326e.pdf\n",
      "Iterate: 25\n",
      "Now treating file: ppp071029e.pdf\n",
      "Iterate: 26\n"
     ]
    },
    {
     "name": "stderr",
     "output_type": "stream",
     "text": [
      "PdfReadWarning: Xref table not zero-indexed. ID numbers for objects will be corrected. [pdf.py:1736]\n",
      "PdfReadWarning: Xref table not zero-indexed. ID numbers for objects will be corrected. [pdf.py:1736]\n",
      "PdfReadWarning: Xref table not zero-indexed. ID numbers for objects will be corrected. [pdf.py:1736]\n"
     ]
    },
    {
     "name": "stdout",
     "output_type": "stream",
     "text": [
      "Now treating file: ppp131216e.pdf\n",
      "Iterate: 27\n",
      "Now treating file: ppp100224e.pdf\n",
      "Iterate: 28\n",
      "Now treating file: ppp101214e.pdf\n",
      "Iterate: 29\n",
      "Now treating file: ppp100901e.pdf\n",
      "Iterate: 30\n",
      "Now treating file: ppp021016e.pdf\n",
      "Iterate: 31\n",
      "Now treating file: ppp170906e.pdf\n",
      "Iterate: 32\n"
     ]
    },
    {
     "name": "stderr",
     "output_type": "stream",
     "text": [
      "PdfReadWarning: Xref table not zero-indexed. ID numbers for objects will be corrected. [pdf.py:1736]\n"
     ]
    },
    {
     "name": "stdout",
     "output_type": "stream",
     "text": [
      "Now treating file: ppp160906e.pdf\n",
      "Iterate: 33\n",
      "Now treating file: ppp010823e.pdf\n",
      "Iterate: 34\n",
      "Now treating file: ppp030703e.pdf\n",
      "Iterate: 35\n"
     ]
    },
    {
     "name": "stderr",
     "output_type": "stream",
     "text": [
      "PdfReadWarning: Xref table not zero-indexed. ID numbers for objects will be corrected. [pdf.py:1736]\n",
      "PdfReadWarning: Xref table not zero-indexed. ID numbers for objects will be corrected. [pdf.py:1736]\n"
     ]
    },
    {
     "name": "stdout",
     "output_type": "stream",
     "text": [
      "Now treating file: ppp070214e.pdf\n",
      "Iterate: 36\n"
     ]
    },
    {
     "name": "stderr",
     "output_type": "stream",
     "text": [
      "PdfReadWarning: Xref table not zero-indexed. ID numbers for objects will be corrected. [pdf.py:1736]\n"
     ]
    },
    {
     "name": "stdout",
     "output_type": "stream",
     "text": [
      "Now treating file: ppp140702e.pdf\n",
      "Iterate: 37\n",
      "Now treating file: ppp011204e.pdf\n",
      "Iterate: 38\n",
      "Now treating file: ppp050620e.pdf\n",
      "Iterate: 39\n"
     ]
    },
    {
     "name": "stderr",
     "output_type": "stream",
     "text": [
      "PdfReadWarning: Xref table not zero-indexed. ID numbers for objects will be corrected. [pdf.py:1736]\n",
      "PdfReadWarning: Xref table not zero-indexed. ID numbers for objects will be corrected. [pdf.py:1736]\n"
     ]
    },
    {
     "name": "stdout",
     "output_type": "stream",
     "text": [
      "Now treating file: ppp000706e.pdf\n",
      "Iterate: 40\n",
      "Now treating file: ppp010614e.pdf\n",
      "Iterate: 41\n",
      "Now treating file: ppp061214e.pdf\n",
      "Iterate: 42\n"
     ]
    },
    {
     "name": "stderr",
     "output_type": "stream",
     "text": [
      "PdfReadWarning: Xref table not zero-indexed. ID numbers for objects will be corrected. [pdf.py:1736]\n",
      "PdfReadWarning: Xref table not zero-indexed. ID numbers for objects will be corrected. [pdf.py:1736]\n",
      "PdfReadWarning: Xref table not zero-indexed. ID numbers for objects will be corrected. [pdf.py:1736]\n",
      "PdfReadWarning: Xref table not zero-indexed. ID numbers for objects will be corrected. [pdf.py:1736]\n"
     ]
    },
    {
     "name": "stdout",
     "output_type": "stream",
     "text": [
      "Now treating file: ppp171025e.pdf\n",
      "Iterate: 43\n",
      "Now treating file: ppp080702e.pdf\n",
      "Iterate: 44\n"
     ]
    },
    {
     "name": "stderr",
     "output_type": "stream",
     "text": [
      "PdfReadWarning: Xref table not zero-indexed. ID numbers for objects will be corrected. [pdf.py:1736]\n",
      "PdfReadWarning: Xref table not zero-indexed. ID numbers for objects will be corrected. [pdf.py:1736]\n"
     ]
    },
    {
     "name": "stdout",
     "output_type": "stream",
     "text": [
      "Now treating file: ppp110920e.pdf\n",
      "Iterate: 45\n",
      "Now treating file: ppp060829e.pdf\n",
      "Iterate: 46\n"
     ]
    },
    {
     "name": "stderr",
     "output_type": "stream",
     "text": [
      "PdfReadWarning: Xref table not zero-indexed. ID numbers for objects will be corrected. [pdf.py:1736]\n",
      "PdfReadWarning: Xref table not zero-indexed. ID numbers for objects will be corrected. [pdf.py:1736]\n"
     ]
    },
    {
     "name": "stdout",
     "output_type": "stream",
     "text": [
      "Now treating file: ppp120905e.pdf\n",
      "Iterate: 47\n",
      "Now treating file: ppp080903e.pdf\n",
      "Iterate: 48\n"
     ]
    },
    {
     "name": "stderr",
     "output_type": "stream",
     "text": [
      "PdfReadWarning: Xref table not zero-indexed. ID numbers for objects will be corrected. [pdf.py:1736]\n",
      "PdfReadWarning: Xref table not zero-indexed. ID numbers for objects will be corrected. [pdf.py:1736]\n"
     ]
    },
    {
     "name": "stdout",
     "output_type": "stream",
     "text": [
      "Now treating file: ppp111219e.pdf\n",
      "Iterate: 49\n",
      "Now treating file: ppp150715e.pdf\n",
      "Iterate: 50\n",
      "Now treating file: ppp120417e.pdf\n",
      "Iterate: 51\n",
      "Now treating file: ppp010530e.pdf\n",
      "Iterate: 52\n",
      "Now treating file: ppp071218e.pdf\n",
      "Iterate: 53\n"
     ]
    },
    {
     "name": "stderr",
     "output_type": "stream",
     "text": [
      "PdfReadWarning: Xref table not zero-indexed. ID numbers for objects will be corrected. [pdf.py:1736]\n",
      "PdfReadWarning: Xref table not zero-indexed. ID numbers for objects will be corrected. [pdf.py:1736]\n",
      "PdfReadWarning: Xref table not zero-indexed. ID numbers for objects will be corrected. [pdf.py:1736]\n"
     ]
    },
    {
     "name": "stdout",
     "output_type": "stream",
     "text": [
      "Now treating file: ppp110214e.pdf\n",
      "Iterate: 54\n",
      "Now treating file: ppp091021e.pdf\n",
      "Iterate: 55\n",
      "Now treating file: ppp050314e.pdf\n",
      "Iterate: 56\n"
     ]
    },
    {
     "name": "stderr",
     "output_type": "stream",
     "text": [
      "PdfReadWarning: Xref table not zero-indexed. ID numbers for objects will be corrected. [pdf.py:1736]\n"
     ]
    },
    {
     "name": "stdout",
     "output_type": "stream",
     "text": [
      "Now treating file: ppp001024e.pdf\n",
      "Iterate: 57\n",
      "Now treating file: ppp180905e.pdf\n",
      "Iterate: 58\n"
     ]
    },
    {
     "name": "stderr",
     "output_type": "stream",
     "text": [
      "PdfReadWarning: Xref table not zero-indexed. ID numbers for objects will be corrected. [pdf.py:1736]\n"
     ]
    },
    {
     "name": "stdout",
     "output_type": "stream",
     "text": [
      "Now treating file: ppp190212e.pdf\n",
      "Iterate: 59\n",
      "Now treating file: ppp160504e.pdf\n",
      "Iterate: 60\n",
      "Now treating file: ppp020605e.pdf\n",
      "Iterate: 61\n",
      "Now treating file: ppp040205e.pdf\n",
      "Iterate: 62\n"
     ]
    },
    {
     "name": "stderr",
     "output_type": "stream",
     "text": [
      "PdfReadWarning: Xref table not zero-indexed. ID numbers for objects will be corrected. [pdf.py:1736]\n",
      "PdfReadWarning: Xref table not zero-indexed. ID numbers for objects will be corrected. [pdf.py:1736]\n"
     ]
    },
    {
     "name": "stdout",
     "output_type": "stream",
     "text": [
      "Now treating file: ppp121024e.pdf\n",
      "Iterate: 63\n",
      "Now treating file: ppp081022e.pdf\n",
      "Iterate: 64\n"
     ]
    },
    {
     "name": "stderr",
     "output_type": "stream",
     "text": [
      "PdfReadWarning: Xref table not zero-indexed. ID numbers for objects will be corrected. [pdf.py:1736]\n",
      "PdfReadWarning: Xref table not zero-indexed. ID numbers for objects will be corrected. [pdf.py:1736]\n"
     ]
    },
    {
     "name": "stdout",
     "output_type": "stream",
     "text": [
      "Now treating file: ppp160705e.pdf\n",
      "Iterate: 65\n",
      "Now treating file: ppp041013e.pdf\n",
      "Iterate: 66\n",
      "Now treating file: ppp060308e.pdf\n",
      "Iterate: 67\n",
      "Now treating file: ppp100503e.pdf\n",
      "Iterate: 68\n",
      "Now treating file: ppp140917e.pdf\n",
      "Iterate: 69\n",
      "Now treating file: ppp030424e.pdf\n",
      "Iterate: 70\n"
     ]
    },
    {
     "name": "stderr",
     "output_type": "stream",
     "text": [
      "PdfReadWarning: Xref table not zero-indexed. ID numbers for objects will be corrected. [pdf.py:1736]\n"
     ]
    },
    {
     "name": "stdout",
     "output_type": "stream",
     "text": [
      "Now treating file: ppp040819e.pdf\n",
      "Iterate: 71\n",
      "Now treating file: ppp161026e.pdf\n",
      "Iterate: 72\n",
      "Now treating file: ppp090701e.pdf\n",
      "Iterate: 73\n",
      "Now treating file: ppp041208e.pdf\n",
      "Iterate: 74\n",
      "Now treating file: ppp151214e.pdf\n",
      "Iterate: 75\n",
      "Now treating file: ppp130212e.pdf\n",
      "Iterate: 76\n",
      "Now treating file: ppp091215e.pdf\n",
      "Iterate: 77\n",
      "Now treating file: ppp100630e.pdf\n",
      "Iterate: 78\n",
      "Now treating file: ppp050823e.pdf\n",
      "Iterate: 79\n"
     ]
    },
    {
     "name": "stderr",
     "output_type": "stream",
     "text": [
      "PdfReadWarning: Xref table not zero-indexed. ID numbers for objects will be corrected. [pdf.py:1736]\n",
      "PdfReadWarning: Xref table not zero-indexed. ID numbers for objects will be corrected. [pdf.py:1736]\n"
     ]
    },
    {
     "name": "stdout",
     "output_type": "stream",
     "text": [
      "Now treating file: ppp141111e.pdf\n",
      "Iterate: 80\n",
      "Now treating file: ppp040527e.pdf\n",
      "Iterate: 81\n",
      "Now treating file: ppp090916e.pdf\n",
      "Iterate: 82\n",
      "Now treating file: ppp081203e.pdf\n",
      "Iterate: 83\n"
     ]
    },
    {
     "name": "stderr",
     "output_type": "stream",
     "text": [
      "PdfReadWarning: Xref table not zero-indexed. ID numbers for objects will be corrected. [pdf.py:1736]\n",
      "PdfReadWarning: Xref table not zero-indexed. ID numbers for objects will be corrected. [pdf.py:1736]\n"
     ]
    },
    {
     "name": "stdout",
     "output_type": "stream",
     "text": [
      "Now treating file: ppp000816e.pdf\n",
      "Iterate: 84\n",
      "Now treating file: ppp151110e.pdf\n",
      "Iterate: 85\n"
     ]
    },
    {
     "name": "stderr",
     "output_type": "stream",
     "text": [
      "PdfReadWarning: Xref table not zero-indexed. ID numbers for objects will be corrected. [pdf.py:1736]\n"
     ]
    },
    {
     "name": "stdout",
     "output_type": "stream",
     "text": [
      "Now treating file: ppp000504e.pdf\n",
      "Iterate: 86\n",
      "Now treating file: ppp070503e.pdf\n",
      "Iterate: 87\n"
     ]
    },
    {
     "name": "stderr",
     "output_type": "stream",
     "text": [
      "PdfReadWarning: Xref table not zero-indexed. ID numbers for objects will be corrected. [pdf.py:1736]\n",
      "PdfReadWarning: Xref table not zero-indexed. ID numbers for objects will be corrected. [pdf.py:1736]\n",
      "PdfReadWarning: Xref table not zero-indexed. ID numbers for objects will be corrected. [pdf.py:1736]\n",
      "PdfReadWarning: Xref table not zero-indexed. ID numbers for objects will be corrected. [pdf.py:1736]\n"
     ]
    },
    {
     "name": "stdout",
     "output_type": "stream",
     "text": [
      "Now treating file: ppp141215e.pdf\n",
      "Iterate: 88\n",
      "Now treating file: ppp040623e.pdf\n",
      "Iterate: 89\n",
      "Now treating file: ppp010705e.pdf\n",
      "Iterate: 90\n",
      "Now treating file: ppp020425e.pdf\n",
      "Iterate: 91\n",
      "Now treating file: ppp150916e.pdf\n",
      "Iterate: 92\n"
     ]
    },
    {
     "name": "stderr",
     "output_type": "stream",
     "text": [
      "PdfReadWarning: Xref table not zero-indexed. ID numbers for objects will be corrected. [pdf.py:1736]\n",
      "PdfReadWarning: Xref table not zero-indexed. ID numbers for objects will be corrected. [pdf.py:1736]\n"
     ]
    },
    {
     "name": "stdout",
     "output_type": "stream",
     "text": [
      "Now treating file: ppp070329e.pdf\n",
      "Iterate: 93\n"
     ]
    },
    {
     "name": "stderr",
     "output_type": "stream",
     "text": [
      "PdfReadWarning: Xref table not zero-indexed. ID numbers for objects will be corrected. [pdf.py:1736]\n",
      "PdfReadWarning: Xref table not zero-indexed. ID numbers for objects will be corrected. [pdf.py:1736]\n"
     ]
    },
    {
     "name": "stdout",
     "output_type": "stream",
     "text": [
      "Now treating file: ppp060427e.pdf\n",
      "Iterate: 94\n"
     ]
    },
    {
     "name": "stderr",
     "output_type": "stream",
     "text": [
      "PdfReadWarning: Xref table not zero-indexed. ID numbers for objects will be corrected. [pdf.py:1736]\n",
      "PdfReadWarning: Xref table not zero-indexed. ID numbers for objects will be corrected. [pdf.py:1736]\n"
     ]
    },
    {
     "name": "stdout",
     "output_type": "stream",
     "text": [
      "Now treating file: ppp000322e.pdf\n",
      "Iterate: 95\n",
      "Now treating file: ppp140408e.pdf\n",
      "Iterate: 96\n"
     ]
    },
    {
     "name": "stderr",
     "output_type": "stream",
     "text": [
      "PdfReadWarning: Xref table not zero-indexed. ID numbers for objects will be corrected. [pdf.py:1736]\n"
     ]
    },
    {
     "name": "stdout",
     "output_type": "stream",
     "text": [
      "Now treating file: ppp031015e.pdf\n",
      "Iterate: 97\n"
     ]
    },
    {
     "name": "stderr",
     "output_type": "stream",
     "text": [
      "PdfReadWarning: Xref table not zero-indexed. ID numbers for objects will be corrected. [pdf.py:1736]\n"
     ]
    },
    {
     "name": "stdout",
     "output_type": "stream",
     "text": [
      "Now treating file: ppp030604e.pdf\n",
      "Iterate: 98\n"
     ]
    },
    {
     "name": "stderr",
     "output_type": "stream",
     "text": [
      "PdfReadWarning: Xref table not zero-indexed. ID numbers for objects will be corrected. [pdf.py:1736]\n"
     ]
    },
    {
     "name": "stdout",
     "output_type": "stream",
     "text": [
      "Now treating file: ppp180213e.pdf\n",
      "Iterate: 99\n",
      "Now treating file: ppp131106e.pdf\n",
      "Iterate: 100\n",
      "Now treating file: ppp190424e.pdf\n",
      "Iterate: 101\n",
      "Now treating file: ppp150511e.pdf\n",
      "Iterate: 102\n",
      "Now treating file: ppp080212e.pdf\n",
      "Iterate: 103\n"
     ]
    },
    {
     "name": "stderr",
     "output_type": "stream",
     "text": [
      "PdfReadWarning: Xref table not zero-indexed. ID numbers for objects will be corrected. [pdf.py:1736]\n",
      "PdfReadWarning: Xref table not zero-indexed. ID numbers for objects will be corrected. [pdf.py:1736]\n"
     ]
    },
    {
     "name": "stdout",
     "output_type": "stream",
     "text": [
      "Now treating file: ppp010201e.pdf\n",
      "Iterate: 104\n",
      "Now treating file: ppp040331e.pdf\n",
      "Iterate: 105\n"
     ]
    },
    {
     "name": "stderr",
     "output_type": "stream",
     "text": [
      "PdfReadWarning: Xref table not zero-indexed. ID numbers for objects will be corrected. [pdf.py:1736]\n",
      "PdfReadWarning: Xref table not zero-indexed. ID numbers for objects will be corrected. [pdf.py:1736]\n"
     ]
    },
    {
     "name": "stdout",
     "output_type": "stream",
     "text": [
      "Now treating file: ppp051019e.pdf\n",
      "Iterate: 106\n"
     ]
    },
    {
     "name": "stderr",
     "output_type": "stream",
     "text": [
      "PdfReadWarning: Xref table not zero-indexed. ID numbers for objects will be corrected. [pdf.py:1736]\n"
     ]
    },
    {
     "name": "stdout",
     "output_type": "stream",
     "text": [
      "Now treating file: ppp170426e.pdf\n",
      "Iterate: 107\n",
      "Now treating file: ppp181219e.pdf\n",
      "Iterate: 108\n",
      "Now treating file: ppp150225e.pdf\n",
      "Iterate: 109\n",
      "Now treating file: ppp060119e.pdf\n",
      "Iterate: 110\n"
     ]
    },
    {
     "name": "stderr",
     "output_type": "stream",
     "text": [
      "PdfReadWarning: Xref table not zero-indexed. ID numbers for objects will be corrected. [pdf.py:1736]\n"
     ]
    },
    {
     "name": "stdout",
     "output_type": "stream",
     "text": [
      "Now treating file: ppp080422e.pdf\n",
      "Iterate: 111\n"
     ]
    },
    {
     "name": "stderr",
     "output_type": "stream",
     "text": [
      "PdfReadWarning: Xref table not zero-indexed. ID numbers for objects will be corrected. [pdf.py:1736]\n",
      "PdfReadWarning: Xref table not zero-indexed. ID numbers for objects will be corrected. [pdf.py:1736]\n"
     ]
    },
    {
     "name": "stdout",
     "output_type": "stream",
     "text": [
      "Now treating file: ppp001220e.pdf\n",
      "Iterate: 112\n",
      "Now treating file: ppp081008e.pdf\n",
      "Iterate: 113\n"
     ]
    },
    {
     "name": "stderr",
     "output_type": "stream",
     "text": [
      "PdfReadWarning: Xref table not zero-indexed. ID numbers for objects will be corrected. [pdf.py:1736]\n",
      "PdfReadWarning: Xref table not zero-indexed. ID numbers for objects will be corrected. [pdf.py:1736]\n",
      "PdfReadWarning: Xref table not zero-indexed. ID numbers for objects will be corrected. [pdf.py:1736]\n"
     ]
    },
    {
     "name": "stdout",
     "output_type": "stream",
     "text": [
      "Now treating file: ppp110704e.pdf\n",
      "Iterate: 114\n",
      "Now treating file: ppp170703e.pdf\n",
      "Iterate: 115\n",
      "Now treating file: ppp030814e.pdf\n",
      "Iterate: 116\n"
     ]
    },
    {
     "name": "stderr",
     "output_type": "stream",
     "text": [
      "PdfReadWarning: Xref table not zero-indexed. ID numbers for objects will be corrected. [pdf.py:1736]\n"
     ]
    },
    {
     "name": "stdout",
     "output_type": "stream",
     "text": [
      "Now treating file: ppp020815e.pdf\n",
      "Iterate: 117\n",
      "Now treating file: ppp040428e.pdf\n",
      "Iterate: 118\n"
     ]
    },
    {
     "name": "stderr",
     "output_type": "stream",
     "text": [
      "PdfReadWarning: Xref table not zero-indexed. ID numbers for objects will be corrected. [pdf.py:1736]\n"
     ]
    },
    {
     "name": "stdout",
     "output_type": "stream",
     "text": [
      "Now treating file: ppp050428e.pdf\n",
      "Iterate: 119\n"
     ]
    },
    {
     "name": "stderr",
     "output_type": "stream",
     "text": [
      "PdfReadWarning: Xref table not zero-indexed. ID numbers for objects will be corrected. [pdf.py:1736]\n"
     ]
    },
    {
     "name": "stdout",
     "output_type": "stream",
     "text": [
      "Now treating file: ppp031204e.pdf\n",
      "Iterate: 120\n"
     ]
    },
    {
     "name": "stderr",
     "output_type": "stream",
     "text": [
      "PdfReadWarning: Xref table not zero-indexed. ID numbers for objects will be corrected. [pdf.py:1736]\n"
     ]
    },
    {
     "name": "stdout",
     "output_type": "stream",
     "text": [
      "Now treating file: ppp021204e.pdf\n",
      "Iterate: 121\n",
      "Now treating file: ppp030317e.pdf\n",
      "Iterate: 122\n"
     ]
    },
    {
     "name": "stderr",
     "output_type": "stream",
     "text": [
      "PdfReadWarning: Xref table not zero-indexed. ID numbers for objects will be corrected. [pdf.py:1736]\n",
      "PdfReadWarning: Xref table not zero-indexed. ID numbers for objects will be corrected. [pdf.py:1736]\n"
     ]
    },
    {
     "name": "stdout",
     "output_type": "stream",
     "text": [
      "Now treating file: ppp011108e.pdf\n",
      "Iterate: 123\n"
     ]
    },
    {
     "name": "stderr",
     "output_type": "stream",
     "text": [
      "PdfReadWarning: Xref table not zero-indexed. ID numbers for objects will be corrected. [pdf.py:1736]\n"
     ]
    },
    {
     "name": "stdout",
     "output_type": "stream",
     "text": [
      "Now treating file: ppp010426e.pdf\n",
      "Iterate: 124\n",
      "Now treating file: ppp181023e.pdf\n",
      "Iterate: 125\n"
     ]
    },
    {
     "name": "stderr",
     "output_type": "stream",
     "text": [
      "PdfReadWarning: Xref table not zero-indexed. ID numbers for objects will be corrected. [pdf.py:1736]\n"
     ]
    },
    {
     "name": "stdout",
     "output_type": "stream",
     "text": [
      "Now treating file: ppp161220e.pdf\n",
      "Iterate: 126\n",
      "Now treating file: ppp140212e.pdf\n",
      "Iterate: 127\n",
      "Now treating file: ppp050127e.pdf\n",
      "Iterate: 128\n",
      "Now treating file: ppp111026e.pdf\n",
      "Iterate: 129\n",
      "Now treating file: ppp130429e.pdf\n",
      "Iterate: 130\n",
      "Now treating file: ppp000607e.pdf\n",
      "Iterate: 131\n",
      "Now treating file: ppp120215e.pdf\n",
      "Iterate: 132\n"
     ]
    },
    {
     "name": "stderr",
     "output_type": "stream",
     "text": [
      "PdfReadWarning: Xref table not zero-indexed. ID numbers for objects will be corrected. [pdf.py:1736]\n"
     ]
    },
    {
     "name": "stdout",
     "output_type": "stream",
     "text": [
      "Now treating file: ppp180425e.pdf\n",
      "Iterate: 133\n",
      "Now treating file: ppp130716e.pdf\n",
      "Iterate: 134\n"
     ]
    },
    {
     "ename": "TypeError",
     "evalue": "data argument can't be an iterator",
     "output_type": "error",
     "traceback": [
      "\u001b[0;31m---------------------------------------------------------------------------\u001b[0m",
      "\u001b[0;31mTypeError\u001b[0m                                 Traceback (most recent call last)",
      "\u001b[0;32m<ipython-input-20-07e618dc18a4>\u001b[0m in \u001b[0;36m<module>\u001b[0;34m\u001b[0m\n\u001b[1;32m     37\u001b[0m     \u001b[0;32mreturn\u001b[0m \u001b[0mdf\u001b[0m\u001b[0;34m\u001b[0m\u001b[0;34m\u001b[0m\u001b[0m\n\u001b[1;32m     38\u001b[0m \u001b[0;34m\u001b[0m\u001b[0m\n\u001b[0;32m---> 39\u001b[0;31m \u001b[0msent_df\u001b[0m \u001b[0;34m=\u001b[0m \u001b[0msentiment_analysis\u001b[0m\u001b[0;34m(\u001b[0m\u001b[0mpositive_cb\u001b[0m\u001b[0;34m,\u001b[0m \u001b[0mnegative_cb\u001b[0m\u001b[0;34m,\u001b[0m \u001b[0mbasedir\u001b[0m\u001b[0;34m)\u001b[0m\u001b[0;34m\u001b[0m\u001b[0;34m\u001b[0m\u001b[0m\n\u001b[0m",
      "\u001b[0;32m<ipython-input-20-07e618dc18a4>\u001b[0m in \u001b[0;36msentiment_analysis\u001b[0;34m(pos, neg, file_path)\u001b[0m\n\u001b[1;32m     34\u001b[0m \u001b[0;34m\u001b[0m\u001b[0m\n\u001b[1;32m     35\u001b[0m         \u001b[0;31m#date = re.findall(r'\\d+', fn)\u001b[0m\u001b[0;34m\u001b[0m\u001b[0;34m\u001b[0m\u001b[0;34m\u001b[0m\u001b[0m\n\u001b[0;32m---> 36\u001b[0;31m     \u001b[0mdf\u001b[0m \u001b[0;34m=\u001b[0m \u001b[0mpd\u001b[0m\u001b[0;34m.\u001b[0m\u001b[0mDataFrame\u001b[0m\u001b[0;34m(\u001b[0m\u001b[0mzip\u001b[0m\u001b[0;34m(\u001b[0m\u001b[0mpos_words\u001b[0m\u001b[0;34m,\u001b[0m \u001b[0mneg_words\u001b[0m\u001b[0;34m,\u001b[0m \u001b[0maverage_tone\u001b[0m\u001b[0;34m,\u001b[0m \u001b[0merror\u001b[0m\u001b[0;34m)\u001b[0m\u001b[0;34m)\u001b[0m\u001b[0;34m\u001b[0m\u001b[0;34m\u001b[0m\u001b[0m\n\u001b[0m\u001b[1;32m     37\u001b[0m     \u001b[0;32mreturn\u001b[0m \u001b[0mdf\u001b[0m\u001b[0;34m\u001b[0m\u001b[0;34m\u001b[0m\u001b[0m\n\u001b[1;32m     38\u001b[0m \u001b[0;34m\u001b[0m\u001b[0m\n",
      "\u001b[0;32m~/anaconda3/lib/python3.7/site-packages/pandas/core/frame.py\u001b[0m in \u001b[0;36m__init__\u001b[0;34m(self, data, index, columns, dtype, copy)\u001b[0m\n\u001b[1;32m    405\u001b[0m                 \u001b[0mmgr\u001b[0m \u001b[0;34m=\u001b[0m \u001b[0mself\u001b[0m\u001b[0;34m.\u001b[0m\u001b[0m_init_dict\u001b[0m\u001b[0;34m(\u001b[0m\u001b[0;34m{\u001b[0m\u001b[0;34m}\u001b[0m\u001b[0;34m,\u001b[0m \u001b[0mindex\u001b[0m\u001b[0;34m,\u001b[0m \u001b[0mcolumns\u001b[0m\u001b[0;34m,\u001b[0m \u001b[0mdtype\u001b[0m\u001b[0;34m=\u001b[0m\u001b[0mdtype\u001b[0m\u001b[0;34m)\u001b[0m\u001b[0;34m\u001b[0m\u001b[0;34m\u001b[0m\u001b[0m\n\u001b[1;32m    406\u001b[0m         \u001b[0;32melif\u001b[0m \u001b[0misinstance\u001b[0m\u001b[0;34m(\u001b[0m\u001b[0mdata\u001b[0m\u001b[0;34m,\u001b[0m \u001b[0mcollections\u001b[0m\u001b[0;34m.\u001b[0m\u001b[0mIterator\u001b[0m\u001b[0;34m)\u001b[0m\u001b[0;34m:\u001b[0m\u001b[0;34m\u001b[0m\u001b[0;34m\u001b[0m\u001b[0m\n\u001b[0;32m--> 407\u001b[0;31m             \u001b[0;32mraise\u001b[0m \u001b[0mTypeError\u001b[0m\u001b[0;34m(\u001b[0m\u001b[0;34m\"data argument can't be an iterator\"\u001b[0m\u001b[0;34m)\u001b[0m\u001b[0;34m\u001b[0m\u001b[0;34m\u001b[0m\u001b[0m\n\u001b[0m\u001b[1;32m    408\u001b[0m         \u001b[0;32melse\u001b[0m\u001b[0;34m:\u001b[0m\u001b[0;34m\u001b[0m\u001b[0;34m\u001b[0m\u001b[0m\n\u001b[1;32m    409\u001b[0m             \u001b[0;32mtry\u001b[0m\u001b[0;34m:\u001b[0m\u001b[0;34m\u001b[0m\u001b[0;34m\u001b[0m\u001b[0m\n",
      "\u001b[0;31mTypeError\u001b[0m: data argument can't be an iterator"
     ]
    }
   ],
   "source": [
    "import os\n",
    "\n",
    "#Sebastian file path\n",
    "basedir = '/Users/matias/Documents/SDS-Group-35/Exam_Project/Minutes_PDF'\n",
    "\n",
    "def sentiment_analysis(pos, neg, file_path):\n",
    "    pos_words = []\n",
    "    neg_words = []\n",
    "    average_tone = []\n",
    "    i = 0\n",
    "    error = []\n",
    "    \n",
    "    for fn in os.listdir(file_path):\n",
    "        try:\n",
    "            print('Now treating file: ' + fn + '\\nIterate: ' + str(i))\n",
    "            doc = pdf_extractor(file_path + '/' + fn)\n",
    "            doc = pd.Series([''.join(doc)])\n",
    "            doc = doc.apply(preprocessing)\n",
    "\n",
    "            pos_words.append(int(count_dictionary(doc[0], pos)))\n",
    "            neg_words.append(int(count_dictionary(doc[0], neg)))\n",
    "            average_tone.append((pos_words[i]-neg_words[i])/len(doc[0]))\n",
    "            error.append(False)  \n",
    "            \n",
    "            i += 1\n",
    "        \n",
    "        except KeyError:\n",
    "            error.append(True)\n",
    "            pos_words.append(np.NaN)\n",
    "            neg_words.append(np.NaN)\n",
    "            average_tone.append(np.NaN)\n",
    "            \n",
    "            i += 1\n",
    "            \n",
    "        #date = re.findall(r'\\d+', fn)\n",
    "    df = pd.DataFrame(zip(pos_words, neg_words, average_tone, error))\n",
    "    return df\n",
    "\n",
    "sent_df = sentiment_analysis(positive_cb, negative_cb, basedir)\n"
   ]
  },
  {
   "cell_type": "code",
   "execution_count": 7,
   "metadata": {},
   "outputs": [
    {
     "ename": "NameError",
     "evalue": "name 'sent_df' is not defined",
     "output_type": "error",
     "traceback": [
      "\u001b[0;31m---------------------------------------------------------------------------\u001b[0m",
      "\u001b[0;31mNameError\u001b[0m                                 Traceback (most recent call last)",
      "\u001b[0;32m<ipython-input-7-13e309a85d0d>\u001b[0m in \u001b[0;36m<module>\u001b[0;34m\u001b[0m\n\u001b[0;32m----> 1\u001b[0;31m \u001b[0msent_df\u001b[0m\u001b[0;34m.\u001b[0m\u001b[0mcolumns\u001b[0m \u001b[0;34m=\u001b[0m \u001b[0;34m[\u001b[0m\u001b[0;34m'Number of positive words'\u001b[0m\u001b[0;34m,\u001b[0m \u001b[0;34m'Number of negative words'\u001b[0m\u001b[0;34m,\u001b[0m \u001b[0;34m'Average tone ratio'\u001b[0m\u001b[0;34m,\u001b[0m \u001b[0;34m'Error in processing PDF'\u001b[0m\u001b[0;34m]\u001b[0m\u001b[0;34m\u001b[0m\u001b[0;34m\u001b[0m\u001b[0m\n\u001b[0m\u001b[1;32m      2\u001b[0m \u001b[0;31m#print(sent_df.loc[sent_df['Number of positive words'] == True])\u001b[0m\u001b[0;34m\u001b[0m\u001b[0;34m\u001b[0m\u001b[0;34m\u001b[0m\u001b[0m\n\u001b[1;32m      3\u001b[0m \u001b[0mlen\u001b[0m\u001b[0;34m(\u001b[0m\u001b[0mlist\u001b[0m\u001b[0;34m(\u001b[0m\u001b[0mfilter\u001b[0m\u001b[0;34m(\u001b[0m\u001b[0;32mlambda\u001b[0m \u001b[0mx\u001b[0m\u001b[0;34m:\u001b[0m \u001b[0mx\u001b[0m \u001b[0;34m>\u001b[0m \u001b[0;36m0\u001b[0m\u001b[0;34m,\u001b[0m \u001b[0msent_df\u001b[0m\u001b[0;34m[\u001b[0m\u001b[0;34m'Average tone ratio'\u001b[0m\u001b[0;34m]\u001b[0m\u001b[0;34m)\u001b[0m\u001b[0;34m)\u001b[0m\u001b[0;34m)\u001b[0m\u001b[0;34m\u001b[0m\u001b[0;34m\u001b[0m\u001b[0m\n\u001b[1;32m      4\u001b[0m \u001b[0msent_df\u001b[0m\u001b[0;34m\u001b[0m\u001b[0;34m\u001b[0m\u001b[0m\n",
      "\u001b[0;31mNameError\u001b[0m: name 'sent_df' is not defined"
     ]
    }
   ],
   "source": [
    "sent_df.columns = ['Number of positive words', 'Number of negative words', 'Average tone ratio', 'Error in processing PDF']\n",
    "#print(sent_df.loc[sent_df['Number of positive words'] == True])\n",
    "len(list(filter(lambda x: x > 0, sent_df['Average tone ratio'])))\n",
    "sent_df"
   ]
  },
  {
   "cell_type": "code",
   "execution_count": null,
   "metadata": {},
   "outputs": [],
   "source": [
    "import os, re, pandas as pd, ast, datetime\n",
    "\n",
    "#Mark file path:\n",
    "path = '/Users/matias/Documents/SDS-Group-35/Exam_Project/Minutes_PDF'\n",
    "\n",
    "files = []\n",
    "files2 = []\n",
    "\n",
    "# r=root, d=directories, f = files\n",
    "for r, d, f in os.walk(basedir):\n",
    "    for file in f:\n",
    "        if '.pdf' in file:\n",
    "            files.append('20' + file[3:5] + \"-\" + file[5:7] + \"-\" + file[7:9])\n",
    "            files2.append(file)\n",
    "\n",
    "Final_list = {'Dato':files,'Filnavn':files2}\n",
    "\n",
    "df_files = pd.DataFrame(Final_list)\n",
    "df_files['date_time'] = pd.to_datetime(df_files['Dato'])\n",
    "df_files['Date time announcement'] = pd.to_datetime(df_files['Dato']) + pd.DateOffset(days=1)\n",
    "df_files"
   ]
  },
  {
   "cell_type": "code",
   "execution_count": null,
   "metadata": {},
   "outputs": [],
   "source": [
    "sent_df = pd.concat([sent_df, pd.Series(df_files['Date time announcement'])], axis = 1, join = 'inner')\n",
    "sent_df"
   ]
  },
  {
   "cell_type": "code",
   "execution_count": null,
   "metadata": {},
   "outputs": [],
   "source": [
    "import matplotlib.pyplot as plt\n",
    "\n",
    "plt.rcParams['figure.figsize'] = (9,4)\n",
    "plt.style.use('default')\n",
    "plt.rcParams.update({'font.size': 8})\n",
    "plt.rcParams['lines.markersize'] = 4\n",
    "\n",
    "x = np.array(sent_df['Date time announcement'])\n",
    "y = np.array(sent_df['Average tone ratio'])\n",
    "\n",
    "# fit = np.polyfit(x, y, 4)\n",
    "# fit_fn = poly1d(fit)\n",
    "# print(fit_fn)\n",
    "\n",
    "# x_new = np.linspace(x[0], x[-1], 50)\n",
    "# y_new = f(x_new)\n",
    "\n",
    "plt.scatter(x, y)#, 'o', x_new, y_new)\n",
    "# plt.plot(x, y, fit)\n",
    "plt.axhline(y = 0, color = 'r', linestyle = '-', linewidth = 0.5)\n",
    "plt.show\n",
    "plt.savefig('Sentiment_scatter.png')"
   ]
  },
  {
   "cell_type": "markdown",
   "metadata": {},
   "source": [
    "### Collecting Stockmarket data"
   ]
  },
  {
   "cell_type": "code",
   "execution_count": null,
   "metadata": {},
   "outputs": [],
   "source": [
    "path_omx = 'https://raw.githubusercontent.com/MatPiq/SDS-Group-35/master/Exam_Project/historic_data/omx30.csv'\n",
    "cols = ['date', 'closing value']\n",
    "omx = pd.read_csv(path_omx, sep=';', names = cols)"
   ]
  },
  {
   "cell_type": "code",
   "execution_count": null,
   "metadata": {},
   "outputs": [],
   "source": [
    "#opening value column\n",
    "omx['opening value'] = omx['closing value'].shift(-1)\n",
    "omx['date'] = pd.to_datetime(omx['date'])\n",
    "\n",
    "\n",
    "#Difference between opening and closing value\n",
    "omx['dif abs'] = omx['opening value'] - omx['closing value']\n",
    "omx['dif abs'] = (omx['opening value']-omx['closing value']) / omx['closing value']\n",
    "omx = omx.iloc[::-1]"
   ]
  },
  {
   "cell_type": "code",
   "execution_count": null,
   "metadata": {},
   "outputs": [],
   "source": [
    "omx.plot('date', 'closing value', grid = True, legend = False, figsize=(10, 5))\n",
    "plt.savefig('omx.png')"
   ]
  },
  {
   "cell_type": "markdown",
   "metadata": {},
   "source": [
    "### Collecting Repo data"
   ]
  },
  {
   "cell_type": "code",
   "execution_count": null,
   "metadata": {},
   "outputs": [],
   "source": [
    "\n",
    "#import repo\n",
    "path_repo = 'https://raw.githubusercontent.com/MatPiq/SDS-Group-35/master/Exam_Project/historic_data/reporate.csv'\n",
    "cols = ['date', 'repoann', 'repoeff']\n",
    "repo = pd.read_csv(path_repo, sep=';', error_bad_lines=False, names = cols)\n",
    "repo['date'] = pd.to_datetime(repo['date'])"
   ]
  },
  {
   "cell_type": "code",
   "execution_count": null,
   "metadata": {},
   "outputs": [],
   "source": [
    "#change in repo column\n",
    "repo['repo_ch'] = repo['repoann']-repo['repoeff']"
   ]
  },
  {
   "cell_type": "code",
   "execution_count": null,
   "metadata": {},
   "outputs": [],
   "source": [
    "repo.plot('date', 'repoann', grid = True, legend = False, figsize=(10, 5))\n",
    "plt.savefig('repo.png')"
   ]
  },
  {
   "cell_type": "markdown",
   "metadata": {},
   "source": [
    "### Merging complete dataframe"
   ]
  },
  {
   "cell_type": "code",
   "execution_count": null,
   "metadata": {},
   "outputs": [],
   "source": [
    "#Necesary imports\n",
    "import pandas as pd\n",
    "import numpy as np\n",
    "import seaborn as sns\n",
    "import matplotlib.pyplot as plt\n",
    "\n",
    "%matplotlib inline"
   ]
  },
  {
   "cell_type": "code",
   "execution_count": null,
   "metadata": {},
   "outputs": [],
   "source": [
    "#Merge repo and omx\n",
    "repo_omx = pd.merge(repo, omx, on = 'date', how = 'inner')\n"
   ]
  },
  {
   "cell_type": "code",
   "execution_count": null,
   "metadata": {},
   "outputs": [],
   "source": [
    "#Inspect and drop NaN\n",
    "nan_rows = repo_omx[repo_omx.isnull().T.any().T]\n",
    "repo_omx.dropna()\n",
    "repo_omx.head()"
   ]
  },
  {
   "cell_type": "code",
   "execution_count": null,
   "metadata": {},
   "outputs": [],
   "source": [
    "#merge repo_omx with sentiment analysis\n",
    "\n"
   ]
  },
  {
   "cell_type": "markdown",
   "metadata": {},
   "source": [
    "### Dataframe quality assorance and validation"
   ]
  },
  {
   "cell_type": "markdown",
   "metadata": {},
   "source": [
    "## Sentiment analysis"
   ]
  },
  {
   "cell_type": "markdown",
   "metadata": {},
   "source": [
    "### Model validation"
   ]
  },
  {
   "cell_type": "markdown",
   "metadata": {},
   "source": [
    "## Machine learning Model"
   ]
  },
  {
   "cell_type": "markdown",
   "metadata": {},
   "source": [
    "### Model validation"
   ]
  },
  {
   "cell_type": "code",
   "execution_count": null,
   "metadata": {},
   "outputs": [],
   "source": []
  }
 ],
 "metadata": {
  "kernelspec": {
   "display_name": "Python 3",
   "language": "python",
   "name": "python3"
  },
  "language_info": {
   "codemirror_mode": {
    "name": "ipython",
    "version": 3
   },
   "file_extension": ".py",
   "mimetype": "text/x-python",
   "name": "python",
   "nbconvert_exporter": "python",
   "pygments_lexer": "ipython3",
   "version": "3.7.1"
  },
  "toc": {
   "base_numbering": "1",
   "nav_menu": {},
   "number_sections": true,
   "sideBar": true,
   "skip_h1_title": true,
   "title_cell": "Table of Contents",
   "title_sidebar": "Contents",
   "toc_cell": false,
   "toc_position": {
    "height": "calc(100% - 180px)",
    "left": "10px",
    "top": "150px",
    "width": "336px"
   },
   "toc_section_display": true,
   "toc_window_display": true
  },
  "varInspector": {
   "cols": {
    "lenName": 16,
    "lenType": 16,
    "lenVar": 40
   },
   "kernels_config": {
    "python": {
     "delete_cmd_postfix": "",
     "delete_cmd_prefix": "del ",
     "library": "var_list.py",
     "varRefreshCmd": "print(var_dic_list())"
    },
    "r": {
     "delete_cmd_postfix": ") ",
     "delete_cmd_prefix": "rm(",
     "library": "var_list.r",
     "varRefreshCmd": "cat(var_dic_list()) "
    }
   },
   "types_to_exclude": [
    "module",
    "function",
    "builtin_function_or_method",
    "instance",
    "_Feature"
   ],
   "window_display": false
  }
 },
 "nbformat": 4,
 "nbformat_minor": 2
}
