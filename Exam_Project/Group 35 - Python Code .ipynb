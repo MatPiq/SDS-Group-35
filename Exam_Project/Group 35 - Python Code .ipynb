{
 "cells": [
  {
   "cell_type": "markdown",
   "metadata": {},
   "source": [
    "# Group 35 Python Code"
   ]
  },
  {
   "cell_type": "markdown",
   "metadata": {},
   "source": [
    "## Data Collection"
   ]
  },
  {
   "cell_type": "markdown",
   "metadata": {},
   "source": [
    "### Extracting PDF content from Minutes"
   ]
  },
  {
   "cell_type": "code",
   "execution_count": 1,
   "metadata": {},
   "outputs": [],
   "source": [
    "#Necessary imports\n",
    "import PyPDF2\n",
    "import requests\n",
    "import numpy as np, seaborn as sns, pandas as pd\n",
    "import nltk, nltk.sentiment, sklearn\n",
    "import collections\n",
    "%matplotlib inline"
   ]
  },
  {
   "cell_type": "code",
   "execution_count": 114,
   "metadata": {},
   "outputs": [],
   "source": [
    "#convert list to pd.series\n",
    "\n",
    "#Preprocessing - tokenize and lower case pdf-strings\n",
    "tokenizer = nltk.tokenize.TweetTokenizer()\n",
    "def preprocessing(string):\n",
    "    string = string.lower()\n",
    "    string = tokenizer.tokenize(string)\n",
    "    return string\n",
    "\n",
    "#Apply positive/negative sets on pdf-string\n",
    "#tok_doc1 = doc1_str.apply(preprocessing)\n",
    "\n",
    "def count_dictionary(document_elem, dictionary):\n",
    "    lst = []\n",
    "    for word in document_elem:\n",
    "        if (word in dictionary):\n",
    "            lst.append(word)\n",
    "    return len(lst)"
   ]
  },
  {
   "cell_type": "code",
   "execution_count": 115,
   "metadata": {},
   "outputs": [],
   "source": [
    "#PDF extractor script. Creates a list separated per page.\n",
    "def pdf_extractor(path):\n",
    "    pdf_file = open(path, 'rb')\n",
    "    read_pdf = PyPDF2.PdfFileReader(pdf_file)\n",
    "    number_of_pages = read_pdf.getNumPages()\n",
    "    c = collections.Counter(range(number_of_pages))\n",
    "    res1 = []\n",
    "    for i in range(len(c)):\n",
    "        page = read_pdf.getPage(i)\n",
    "        page_content = page.extractText()\n",
    "        res1.append(page_content)\n",
    "    return res1"
   ]
  },
  {
   "cell_type": "markdown",
   "metadata": {},
   "source": [
    "### Creating Sentiment Variable"
   ]
  },
  {
   "cell_type": "code",
   "execution_count": 116,
   "metadata": {},
   "outputs": [],
   "source": [
    "path_positive = 'https://raw.githubusercontent.com/MatPiq/SDS-Group-35/master/Exam_Project/positive.csv'\n",
    "path_negative = 'https://raw.githubusercontent.com/MatPiq/SDS-Group-35/master/Exam_Project/negative.csv'\n",
    "positive_cb = pd.read_csv(path_positive, sep=';', header=None)\n",
    "negative_cb = pd.read_csv(path_negative, sep=';', header=None)\n",
    "positive_cb = set(positive_cb[0])\n",
    "negative_cb = set(negative_cb[0])\n"
   ]
  },
  {
   "cell_type": "code",
   "execution_count": 117,
   "metadata": {},
   "outputs": [
    {
     "name": "stdout",
     "output_type": "stream",
     "text": [
      "Now treating file: ppp110419e.pdf\n",
      "Iterate: 0\n",
      "Now treating file: ppp121217e.pdf\n",
      "Iterate: 1\n",
      "Now treating file: ppp010917e.pdf\n",
      "Iterate: 2\n",
      "Now treating file: ppp101025e.pdf\n",
      "Iterate: 3\n"
     ]
    },
    {
     "name": "stderr",
     "output_type": "stream",
     "text": [
      "PdfReadWarning: Xref table not zero-indexed. ID numbers for objects will be corrected. [pdf.py:1736]\n"
     ]
    },
    {
     "name": "stdout",
     "output_type": "stream",
     "text": [
      "Now treating file: ppp020318e.pdf\n",
      "Iterate: 4\n",
      "Now treating file: ppp011015e.pdf\n",
      "Iterate: 5\n",
      "Now treating file: ppp171219e.pdf\n",
      "Iterate: 6\n"
     ]
    },
    {
     "name": "stderr",
     "output_type": "stream",
     "text": [
      "PdfReadWarning: Xref table not zero-indexed. ID numbers for objects will be corrected. [pdf.py:1736]\n",
      "PdfReadWarning: Xref table not zero-indexed. ID numbers for objects will be corrected. [pdf.py:1736]\n"
     ]
    },
    {
     "name": "stdout",
     "output_type": "stream",
     "text": [
      "Now treating file: ppp120703e.pdf\n",
      "Iterate: 7\n",
      "Now treating file: ppp000203e.pdf\n",
      "Iterate: 8\n",
      "Now treating file: ppp090210e.pdf\n",
      "Iterate: 9\n"
     ]
    },
    {
     "name": "stderr",
     "output_type": "stream",
     "text": [
      "PdfReadWarning: Xref table not zero-indexed. ID numbers for objects will be corrected. [pdf.py:1736]\n",
      "PdfReadWarning: Xref table not zero-indexed. ID numbers for objects will be corrected. [pdf.py:1736]\n",
      "PdfReadWarning: Xref table not zero-indexed. ID numbers for objects will be corrected. [pdf.py:1736]\n"
     ]
    },
    {
     "name": "stdout",
     "output_type": "stream",
     "text": [
      "Now treating file: ppp160222e.pdf\n",
      "Iterate: 10\n",
      "Now treating file: ppp070906e.pdf\n",
      "Iterate: 11\n"
     ]
    },
    {
     "name": "stderr",
     "output_type": "stream",
     "text": [
      "PdfReadWarning: Xref table not zero-indexed. ID numbers for objects will be corrected. [pdf.py:1736]\n",
      "PdfReadWarning: Xref table not zero-indexed. ID numbers for objects will be corrected. [pdf.py:1736]\n"
     ]
    },
    {
     "name": "stdout",
     "output_type": "stream",
     "text": [
      "Now treating file: ppp130918e.pdf\n",
      "Iterate: 12\n",
      "Now treating file: ppp070619e.pdf\n",
      "Iterate: 13\n"
     ]
    },
    {
     "name": "stderr",
     "output_type": "stream",
     "text": [
      "PdfReadWarning: Xref table not zero-indexed. ID numbers for objects will be corrected. [pdf.py:1736]\n",
      "PdfReadWarning: Xref table not zero-indexed. ID numbers for objects will be corrected. [pdf.py:1736]\n"
     ]
    },
    {
     "name": "stdout",
     "output_type": "stream",
     "text": [
      "Now treating file: ppp060619e.pdf\n",
      "Iterate: 14\n"
     ]
    },
    {
     "name": "stderr",
     "output_type": "stream",
     "text": [
      "PdfReadWarning: Xref table not zero-indexed. ID numbers for objects will be corrected. [pdf.py:1736]\n",
      "PdfReadWarning: Xref table not zero-indexed. ID numbers for objects will be corrected. [pdf.py:1736]\n"
     ]
    },
    {
     "name": "stdout",
     "output_type": "stream",
     "text": [
      "Now treating file: ppp170214e.pdf\n",
      "Iterate: 15\n",
      "Now treating file: ppp090420e.pdf\n",
      "Iterate: 16\n"
     ]
    },
    {
     "name": "stderr",
     "output_type": "stream",
     "text": [
      "PdfReadWarning: Xref table not zero-indexed. ID numbers for objects will be corrected. [pdf.py:1736]\n",
      "PdfReadWarning: Xref table not zero-indexed. ID numbers for objects will be corrected. [pdf.py:1736]\n"
     ]
    },
    {
     "name": "stdout",
     "output_type": "stream",
     "text": [
      "Now treating file: ppp030206e.pdf\n",
      "Iterate: 17\n"
     ]
    },
    {
     "name": "stderr",
     "output_type": "stream",
     "text": [
      "PdfReadWarning: Xref table not zero-indexed. ID numbers for objects will be corrected. [pdf.py:1736]\n"
     ]
    },
    {
     "name": "stdout",
     "output_type": "stream",
     "text": [
      "Now treating file: ppp021114e.pdf\n",
      "Iterate: 18\n",
      "Now treating file: ppp180702e.pdf\n",
      "Iterate: 19\n"
     ]
    },
    {
     "name": "stderr",
     "output_type": "stream",
     "text": [
      "PdfReadWarning: Xref table not zero-indexed. ID numbers for objects will be corrected. [pdf.py:1736]\n"
     ]
    },
    {
     "name": "stdout",
     "output_type": "stream",
     "text": [
      "Now treating file: ppp061025e.pdf\n",
      "Iterate: 20\n"
     ]
    },
    {
     "name": "stderr",
     "output_type": "stream",
     "text": [
      "PdfReadWarning: Xref table not zero-indexed. ID numbers for objects will be corrected. [pdf.py:1736]\n",
      "PdfReadWarning: Xref table not zero-indexed. ID numbers for objects will be corrected. [pdf.py:1736]\n"
     ]
    },
    {
     "name": "stdout",
     "output_type": "stream",
     "text": [
      "Now treating file: ppp190702e.pdf\n",
      "Iterate: 21\n",
      "Now treating file: ppp020704e.pdf\n",
      "Iterate: 22\n",
      "Now treating file: ppp051201e.pdf\n",
      "Iterate: 23\n"
     ]
    },
    {
     "name": "stderr",
     "output_type": "stream",
     "text": [
      "PdfReadWarning: Xref table not zero-indexed. ID numbers for objects will be corrected. [pdf.py:1736]\n",
      "PdfReadWarning: Xref table not zero-indexed. ID numbers for objects will be corrected. [pdf.py:1736]\n"
     ]
    },
    {
     "name": "stdout",
     "output_type": "stream",
     "text": [
      "Now treating file: ppp020207e.pdf\n",
      "Iterate: 24\n",
      "Now treating file: ppp010326e.pdf\n",
      "Iterate: 25\n",
      "Now treating file: ppp071029e.pdf\n",
      "Iterate: 26\n"
     ]
    },
    {
     "name": "stderr",
     "output_type": "stream",
     "text": [
      "PdfReadWarning: Xref table not zero-indexed. ID numbers for objects will be corrected. [pdf.py:1736]\n",
      "PdfReadWarning: Xref table not zero-indexed. ID numbers for objects will be corrected. [pdf.py:1736]\n",
      "PdfReadWarning: Xref table not zero-indexed. ID numbers for objects will be corrected. [pdf.py:1736]\n"
     ]
    },
    {
     "name": "stdout",
     "output_type": "stream",
     "text": [
      "Now treating file: ppp131216e.pdf\n",
      "Iterate: 27\n",
      "Now treating file: ppp100224e.pdf\n",
      "Iterate: 28\n",
      "Now treating file: ppp101214e.pdf\n",
      "Iterate: 29\n",
      "Now treating file: ppp100901e.pdf\n",
      "Iterate: 30\n",
      "Now treating file: ppp021016e.pdf\n",
      "Iterate: 31\n",
      "Now treating file: ppp170906e.pdf\n",
      "Iterate: 32\n"
     ]
    },
    {
     "name": "stderr",
     "output_type": "stream",
     "text": [
      "PdfReadWarning: Xref table not zero-indexed. ID numbers for objects will be corrected. [pdf.py:1736]\n"
     ]
    },
    {
     "name": "stdout",
     "output_type": "stream",
     "text": [
      "Now treating file: ppp160906e.pdf\n",
      "Iterate: 33\n",
      "Now treating file: ppp010823e.pdf\n",
      "Iterate: 34\n",
      "Now treating file: ppp030703e.pdf\n",
      "Iterate: 35\n"
     ]
    },
    {
     "name": "stderr",
     "output_type": "stream",
     "text": [
      "PdfReadWarning: Xref table not zero-indexed. ID numbers for objects will be corrected. [pdf.py:1736]\n",
      "PdfReadWarning: Xref table not zero-indexed. ID numbers for objects will be corrected. [pdf.py:1736]\n"
     ]
    },
    {
     "name": "stdout",
     "output_type": "stream",
     "text": [
      "Now treating file: ppp070214e.pdf\n",
      "Iterate: 36\n"
     ]
    },
    {
     "name": "stderr",
     "output_type": "stream",
     "text": [
      "PdfReadWarning: Xref table not zero-indexed. ID numbers for objects will be corrected. [pdf.py:1736]\n"
     ]
    },
    {
     "name": "stdout",
     "output_type": "stream",
     "text": [
      "Now treating file: ppp140702e.pdf\n",
      "Iterate: 37\n",
      "Now treating file: ppp011204e.pdf\n",
      "Iterate: 38\n",
      "Now treating file: ppp050620e.pdf\n",
      "Iterate: 39\n"
     ]
    },
    {
     "name": "stderr",
     "output_type": "stream",
     "text": [
      "PdfReadWarning: Xref table not zero-indexed. ID numbers for objects will be corrected. [pdf.py:1736]\n",
      "PdfReadWarning: Xref table not zero-indexed. ID numbers for objects will be corrected. [pdf.py:1736]\n"
     ]
    },
    {
     "name": "stdout",
     "output_type": "stream",
     "text": [
      "Now treating file: ppp000706e.pdf\n",
      "Iterate: 40\n",
      "Now treating file: ppp010614e.pdf\n",
      "Iterate: 41\n",
      "Now treating file: ppp061214e.pdf\n",
      "Iterate: 42\n"
     ]
    },
    {
     "name": "stderr",
     "output_type": "stream",
     "text": [
      "PdfReadWarning: Xref table not zero-indexed. ID numbers for objects will be corrected. [pdf.py:1736]\n",
      "PdfReadWarning: Xref table not zero-indexed. ID numbers for objects will be corrected. [pdf.py:1736]\n",
      "PdfReadWarning: Xref table not zero-indexed. ID numbers for objects will be corrected. [pdf.py:1736]\n",
      "PdfReadWarning: Xref table not zero-indexed. ID numbers for objects will be corrected. [pdf.py:1736]\n"
     ]
    },
    {
     "name": "stdout",
     "output_type": "stream",
     "text": [
      "Now treating file: ppp171025e.pdf\n",
      "Iterate: 43\n",
      "Now treating file: ppp080702e.pdf\n",
      "Iterate: 44\n"
     ]
    },
    {
     "name": "stderr",
     "output_type": "stream",
     "text": [
      "PdfReadWarning: Xref table not zero-indexed. ID numbers for objects will be corrected. [pdf.py:1736]\n",
      "PdfReadWarning: Xref table not zero-indexed. ID numbers for objects will be corrected. [pdf.py:1736]\n"
     ]
    },
    {
     "name": "stdout",
     "output_type": "stream",
     "text": [
      "Now treating file: ppp110920e.pdf\n",
      "Iterate: 45\n",
      "Now treating file: ppp060829e.pdf\n",
      "Iterate: 46\n"
     ]
    },
    {
     "name": "stderr",
     "output_type": "stream",
     "text": [
      "PdfReadWarning: Xref table not zero-indexed. ID numbers for objects will be corrected. [pdf.py:1736]\n",
      "PdfReadWarning: Xref table not zero-indexed. ID numbers for objects will be corrected. [pdf.py:1736]\n"
     ]
    },
    {
     "name": "stdout",
     "output_type": "stream",
     "text": [
      "Now treating file: ppp120905e.pdf\n",
      "Iterate: 47\n",
      "Now treating file: ppp080903e.pdf\n",
      "Iterate: 48\n"
     ]
    },
    {
     "name": "stderr",
     "output_type": "stream",
     "text": [
      "PdfReadWarning: Xref table not zero-indexed. ID numbers for objects will be corrected. [pdf.py:1736]\n",
      "PdfReadWarning: Xref table not zero-indexed. ID numbers for objects will be corrected. [pdf.py:1736]\n"
     ]
    },
    {
     "name": "stdout",
     "output_type": "stream",
     "text": [
      "Now treating file: ppp111219e.pdf\n",
      "Iterate: 49\n",
      "Now treating file: ppp150715e.pdf\n",
      "Iterate: 50\n",
      "Now treating file: ppp120417e.pdf\n",
      "Iterate: 51\n",
      "Now treating file: ppp010530e.pdf\n",
      "Iterate: 52\n",
      "Now treating file: ppp071218e.pdf\n",
      "Iterate: 53\n"
     ]
    },
    {
     "name": "stderr",
     "output_type": "stream",
     "text": [
      "PdfReadWarning: Xref table not zero-indexed. ID numbers for objects will be corrected. [pdf.py:1736]\n",
      "PdfReadWarning: Xref table not zero-indexed. ID numbers for objects will be corrected. [pdf.py:1736]\n",
      "PdfReadWarning: Xref table not zero-indexed. ID numbers for objects will be corrected. [pdf.py:1736]\n"
     ]
    },
    {
     "name": "stdout",
     "output_type": "stream",
     "text": [
      "Now treating file: ppp110214e.pdf\n",
      "Iterate: 54\n",
      "Now treating file: ppp091021e.pdf\n",
      "Iterate: 55\n",
      "Now treating file: ppp050314e.pdf\n",
      "Iterate: 56\n"
     ]
    },
    {
     "name": "stderr",
     "output_type": "stream",
     "text": [
      "PdfReadWarning: Xref table not zero-indexed. ID numbers for objects will be corrected. [pdf.py:1736]\n"
     ]
    },
    {
     "name": "stdout",
     "output_type": "stream",
     "text": [
      "Now treating file: ppp001024e.pdf\n",
      "Iterate: 57\n",
      "Now treating file: ppp180905e.pdf\n",
      "Iterate: 58\n"
     ]
    },
    {
     "name": "stderr",
     "output_type": "stream",
     "text": [
      "PdfReadWarning: Xref table not zero-indexed. ID numbers for objects will be corrected. [pdf.py:1736]\n"
     ]
    },
    {
     "name": "stdout",
     "output_type": "stream",
     "text": [
      "Now treating file: ppp190212e.pdf\n",
      "Iterate: 59\n",
      "Now treating file: ppp160504e.pdf\n",
      "Iterate: 60\n",
      "Now treating file: ppp020605e.pdf\n",
      "Iterate: 61\n",
      "Now treating file: ppp040205e.pdf\n",
      "Iterate: 62\n"
     ]
    },
    {
     "name": "stderr",
     "output_type": "stream",
     "text": [
      "PdfReadWarning: Xref table not zero-indexed. ID numbers for objects will be corrected. [pdf.py:1736]\n",
      "PdfReadWarning: Xref table not zero-indexed. ID numbers for objects will be corrected. [pdf.py:1736]\n"
     ]
    },
    {
     "name": "stdout",
     "output_type": "stream",
     "text": [
      "Now treating file: ppp121024e.pdf\n",
      "Iterate: 63\n",
      "Now treating file: ppp081022e.pdf\n",
      "Iterate: 64\n"
     ]
    },
    {
     "name": "stderr",
     "output_type": "stream",
     "text": [
      "PdfReadWarning: Xref table not zero-indexed. ID numbers for objects will be corrected. [pdf.py:1736]\n",
      "PdfReadWarning: Xref table not zero-indexed. ID numbers for objects will be corrected. [pdf.py:1736]\n"
     ]
    },
    {
     "name": "stdout",
     "output_type": "stream",
     "text": [
      "Now treating file: ppp160705e.pdf\n",
      "Iterate: 65\n",
      "Now treating file: ppp041013e.pdf\n",
      "Iterate: 66\n",
      "Now treating file: ppp060308e.pdf\n",
      "Iterate: 67\n",
      "Now treating file: ppp100503e.pdf\n",
      "Iterate: 68\n",
      "Now treating file: ppp140917e.pdf\n",
      "Iterate: 69\n",
      "Now treating file: ppp030424e.pdf\n",
      "Iterate: 70\n"
     ]
    },
    {
     "name": "stderr",
     "output_type": "stream",
     "text": [
      "PdfReadWarning: Xref table not zero-indexed. ID numbers for objects will be corrected. [pdf.py:1736]\n"
     ]
    },
    {
     "name": "stdout",
     "output_type": "stream",
     "text": [
      "Now treating file: ppp040819e.pdf\n",
      "Iterate: 71\n",
      "Now treating file: ppp161026e.pdf\n",
      "Iterate: 72\n",
      "Now treating file: ppp090701e.pdf\n",
      "Iterate: 73\n",
      "Now treating file: ppp041208e.pdf\n",
      "Iterate: 74\n",
      "Now treating file: ppp151214e.pdf\n",
      "Iterate: 75\n",
      "Now treating file: ppp130212e.pdf\n",
      "Iterate: 76\n",
      "Now treating file: ppp091215e.pdf\n",
      "Iterate: 77\n",
      "Now treating file: ppp100630e.pdf\n",
      "Iterate: 78\n",
      "Now treating file: ppp050823e.pdf\n",
      "Iterate: 79\n"
     ]
    },
    {
     "name": "stderr",
     "output_type": "stream",
     "text": [
      "PdfReadWarning: Xref table not zero-indexed. ID numbers for objects will be corrected. [pdf.py:1736]\n",
      "PdfReadWarning: Xref table not zero-indexed. ID numbers for objects will be corrected. [pdf.py:1736]\n"
     ]
    },
    {
     "name": "stdout",
     "output_type": "stream",
     "text": [
      "Now treating file: ppp141111e.pdf\n",
      "Iterate: 80\n",
      "Now treating file: ppp040527e.pdf\n",
      "Iterate: 81\n",
      "Now treating file: ppp090916e.pdf\n",
      "Iterate: 82\n",
      "Now treating file: ppp081203e.pdf\n",
      "Iterate: 83\n"
     ]
    },
    {
     "name": "stderr",
     "output_type": "stream",
     "text": [
      "PdfReadWarning: Xref table not zero-indexed. ID numbers for objects will be corrected. [pdf.py:1736]\n",
      "PdfReadWarning: Xref table not zero-indexed. ID numbers for objects will be corrected. [pdf.py:1736]\n"
     ]
    },
    {
     "name": "stdout",
     "output_type": "stream",
     "text": [
      "Now treating file: ppp000816e.pdf\n",
      "Iterate: 84\n",
      "Now treating file: ppp151110e.pdf\n",
      "Iterate: 85\n"
     ]
    },
    {
     "name": "stderr",
     "output_type": "stream",
     "text": [
      "PdfReadWarning: Xref table not zero-indexed. ID numbers for objects will be corrected. [pdf.py:1736]\n"
     ]
    },
    {
     "name": "stdout",
     "output_type": "stream",
     "text": [
      "Now treating file: ppp000504e.pdf\n",
      "Iterate: 86\n",
      "Now treating file: ppp070503e.pdf\n",
      "Iterate: 87\n"
     ]
    },
    {
     "name": "stderr",
     "output_type": "stream",
     "text": [
      "PdfReadWarning: Xref table not zero-indexed. ID numbers for objects will be corrected. [pdf.py:1736]\n",
      "PdfReadWarning: Xref table not zero-indexed. ID numbers for objects will be corrected. [pdf.py:1736]\n",
      "PdfReadWarning: Xref table not zero-indexed. ID numbers for objects will be corrected. [pdf.py:1736]\n",
      "PdfReadWarning: Xref table not zero-indexed. ID numbers for objects will be corrected. [pdf.py:1736]\n"
     ]
    },
    {
     "name": "stdout",
     "output_type": "stream",
     "text": [
      "Now treating file: ppp141215e.pdf\n",
      "Iterate: 88\n",
      "Now treating file: ppp040623e.pdf\n",
      "Iterate: 89\n",
      "Now treating file: ppp010705e.pdf\n",
      "Iterate: 90\n",
      "Now treating file: ppp020425e.pdf\n",
      "Iterate: 91\n"
     ]
    },
    {
     "name": "stderr",
     "output_type": "stream",
     "text": [
      "PdfReadWarning: Xref table not zero-indexed. ID numbers for objects will be corrected. [pdf.py:1736]\n",
      "PdfReadWarning: Xref table not zero-indexed. ID numbers for objects will be corrected. [pdf.py:1736]\n"
     ]
    },
    {
     "name": "stdout",
     "output_type": "stream",
     "text": [
      "Now treating file: ppp150916e.pdf\n",
      "Iterate: 92\n",
      "Now treating file: ppp070329e.pdf\n",
      "Iterate: 93\n"
     ]
    },
    {
     "name": "stderr",
     "output_type": "stream",
     "text": [
      "PdfReadWarning: Xref table not zero-indexed. ID numbers for objects will be corrected. [pdf.py:1736]\n",
      "PdfReadWarning: Xref table not zero-indexed. ID numbers for objects will be corrected. [pdf.py:1736]\n"
     ]
    },
    {
     "name": "stdout",
     "output_type": "stream",
     "text": [
      "Now treating file: ppp060427e.pdf\n",
      "Iterate: 94\n"
     ]
    },
    {
     "name": "stderr",
     "output_type": "stream",
     "text": [
      "PdfReadWarning: Xref table not zero-indexed. ID numbers for objects will be corrected. [pdf.py:1736]\n",
      "PdfReadWarning: Xref table not zero-indexed. ID numbers for objects will be corrected. [pdf.py:1736]\n"
     ]
    },
    {
     "name": "stdout",
     "output_type": "stream",
     "text": [
      "Now treating file: ppp000322e.pdf\n",
      "Iterate: 95\n",
      "Now treating file: ppp140408e.pdf\n",
      "Iterate: 96\n"
     ]
    },
    {
     "name": "stderr",
     "output_type": "stream",
     "text": [
      "PdfReadWarning: Xref table not zero-indexed. ID numbers for objects will be corrected. [pdf.py:1736]\n"
     ]
    },
    {
     "name": "stdout",
     "output_type": "stream",
     "text": [
      "Now treating file: ppp031015e.pdf\n",
      "Iterate: 97\n"
     ]
    },
    {
     "name": "stderr",
     "output_type": "stream",
     "text": [
      "PdfReadWarning: Xref table not zero-indexed. ID numbers for objects will be corrected. [pdf.py:1736]\n"
     ]
    },
    {
     "name": "stdout",
     "output_type": "stream",
     "text": [
      "Now treating file: ppp030604e.pdf\n",
      "Iterate: 98\n"
     ]
    },
    {
     "name": "stderr",
     "output_type": "stream",
     "text": [
      "PdfReadWarning: Xref table not zero-indexed. ID numbers for objects will be corrected. [pdf.py:1736]\n"
     ]
    },
    {
     "name": "stdout",
     "output_type": "stream",
     "text": [
      "Now treating file: ppp180213e.pdf\n",
      "Iterate: 99\n",
      "Now treating file: ppp131106e.pdf\n",
      "Iterate: 100\n",
      "Now treating file: ppp190424e.pdf\n",
      "Iterate: 101\n",
      "Now treating file: ppp150511e.pdf\n",
      "Iterate: 102\n",
      "Now treating file: ppp080212e.pdf\n",
      "Iterate: 103\n"
     ]
    },
    {
     "name": "stderr",
     "output_type": "stream",
     "text": [
      "PdfReadWarning: Xref table not zero-indexed. ID numbers for objects will be corrected. [pdf.py:1736]\n",
      "PdfReadWarning: Xref table not zero-indexed. ID numbers for objects will be corrected. [pdf.py:1736]\n"
     ]
    },
    {
     "name": "stdout",
     "output_type": "stream",
     "text": [
      "Now treating file: ppp010201e.pdf\n",
      "Iterate: 104\n",
      "Now treating file: ppp040331e.pdf\n",
      "Iterate: 105\n"
     ]
    },
    {
     "name": "stderr",
     "output_type": "stream",
     "text": [
      "PdfReadWarning: Xref table not zero-indexed. ID numbers for objects will be corrected. [pdf.py:1736]\n",
      "PdfReadWarning: Xref table not zero-indexed. ID numbers for objects will be corrected. [pdf.py:1736]\n"
     ]
    },
    {
     "name": "stdout",
     "output_type": "stream",
     "text": [
      "Now treating file: ppp051019e.pdf\n",
      "Iterate: 106\n"
     ]
    },
    {
     "name": "stderr",
     "output_type": "stream",
     "text": [
      "PdfReadWarning: Xref table not zero-indexed. ID numbers for objects will be corrected. [pdf.py:1736]\n"
     ]
    },
    {
     "name": "stdout",
     "output_type": "stream",
     "text": [
      "Now treating file: ppp170426e.pdf\n",
      "Iterate: 107\n",
      "Now treating file: ppp181219e.pdf\n",
      "Iterate: 108\n",
      "Now treating file: ppp150225e.pdf\n",
      "Iterate: 109\n",
      "Now treating file: ppp060119e.pdf\n",
      "Iterate: 110\n"
     ]
    },
    {
     "name": "stderr",
     "output_type": "stream",
     "text": [
      "PdfReadWarning: Xref table not zero-indexed. ID numbers for objects will be corrected. [pdf.py:1736]\n"
     ]
    },
    {
     "name": "stdout",
     "output_type": "stream",
     "text": [
      "Now treating file: ppp080422e.pdf\n",
      "Iterate: 111\n"
     ]
    },
    {
     "name": "stderr",
     "output_type": "stream",
     "text": [
      "PdfReadWarning: Xref table not zero-indexed. ID numbers for objects will be corrected. [pdf.py:1736]\n",
      "PdfReadWarning: Xref table not zero-indexed. ID numbers for objects will be corrected. [pdf.py:1736]\n"
     ]
    },
    {
     "name": "stdout",
     "output_type": "stream",
     "text": [
      "Now treating file: ppp001220e.pdf\n",
      "Iterate: 112\n",
      "Now treating file: ppp081008e.pdf\n",
      "Iterate: 113\n"
     ]
    },
    {
     "name": "stderr",
     "output_type": "stream",
     "text": [
      "PdfReadWarning: Xref table not zero-indexed. ID numbers for objects will be corrected. [pdf.py:1736]\n",
      "PdfReadWarning: Xref table not zero-indexed. ID numbers for objects will be corrected. [pdf.py:1736]\n",
      "PdfReadWarning: Xref table not zero-indexed. ID numbers for objects will be corrected. [pdf.py:1736]\n"
     ]
    },
    {
     "name": "stdout",
     "output_type": "stream",
     "text": [
      "Now treating file: ppp110704e.pdf\n",
      "Iterate: 114\n",
      "Now treating file: ppp170703e.pdf\n",
      "Iterate: 115\n",
      "Now treating file: ppp030814e.pdf\n",
      "Iterate: 116\n"
     ]
    },
    {
     "name": "stderr",
     "output_type": "stream",
     "text": [
      "PdfReadWarning: Xref table not zero-indexed. ID numbers for objects will be corrected. [pdf.py:1736]\n"
     ]
    },
    {
     "name": "stdout",
     "output_type": "stream",
     "text": [
      "Now treating file: ppp020815e.pdf\n",
      "Iterate: 117\n",
      "Now treating file: ppp040428e.pdf\n",
      "Iterate: 118\n"
     ]
    },
    {
     "name": "stderr",
     "output_type": "stream",
     "text": [
      "PdfReadWarning: Xref table not zero-indexed. ID numbers for objects will be corrected. [pdf.py:1736]\n"
     ]
    },
    {
     "name": "stdout",
     "output_type": "stream",
     "text": [
      "Now treating file: ppp050428e.pdf\n",
      "Iterate: 119\n"
     ]
    },
    {
     "name": "stderr",
     "output_type": "stream",
     "text": [
      "PdfReadWarning: Xref table not zero-indexed. ID numbers for objects will be corrected. [pdf.py:1736]\n"
     ]
    },
    {
     "name": "stdout",
     "output_type": "stream",
     "text": [
      "Now treating file: ppp031204e.pdf\n",
      "Iterate: 120\n"
     ]
    },
    {
     "name": "stderr",
     "output_type": "stream",
     "text": [
      "PdfReadWarning: Xref table not zero-indexed. ID numbers for objects will be corrected. [pdf.py:1736]\n"
     ]
    },
    {
     "name": "stdout",
     "output_type": "stream",
     "text": [
      "Now treating file: ppp021204e.pdf\n",
      "Iterate: 121\n",
      "Now treating file: ppp030317e.pdf\n",
      "Iterate: 122\n"
     ]
    },
    {
     "name": "stderr",
     "output_type": "stream",
     "text": [
      "PdfReadWarning: Xref table not zero-indexed. ID numbers for objects will be corrected. [pdf.py:1736]\n",
      "PdfReadWarning: Xref table not zero-indexed. ID numbers for objects will be corrected. [pdf.py:1736]\n"
     ]
    },
    {
     "name": "stdout",
     "output_type": "stream",
     "text": [
      "Now treating file: ppp011108e.pdf\n",
      "Iterate: 123\n"
     ]
    },
    {
     "name": "stderr",
     "output_type": "stream",
     "text": [
      "PdfReadWarning: Xref table not zero-indexed. ID numbers for objects will be corrected. [pdf.py:1736]\n"
     ]
    },
    {
     "name": "stdout",
     "output_type": "stream",
     "text": [
      "Now treating file: ppp010426e.pdf\n",
      "Iterate: 124\n"
     ]
    },
    {
     "name": "stderr",
     "output_type": "stream",
     "text": [
      "PdfReadWarning: Xref table not zero-indexed. ID numbers for objects will be corrected. [pdf.py:1736]\n"
     ]
    },
    {
     "name": "stdout",
     "output_type": "stream",
     "text": [
      "Now treating file: ppp181023e.pdf\n",
      "Iterate: 125\n",
      "Now treating file: ppp161220e.pdf\n",
      "Iterate: 126\n",
      "Now treating file: ppp140212e.pdf\n",
      "Iterate: 127\n",
      "Now treating file: ppp050127e.pdf\n",
      "Iterate: 128\n",
      "Now treating file: ppp111026e.pdf\n",
      "Iterate: 129\n",
      "Now treating file: ppp130429e.pdf\n",
      "Iterate: 130\n",
      "Now treating file: ppp000607e.pdf\n",
      "Iterate: 131\n",
      "Now treating file: ppp120215e.pdf\n",
      "Iterate: 132\n"
     ]
    },
    {
     "name": "stderr",
     "output_type": "stream",
     "text": [
      "PdfReadWarning: Xref table not zero-indexed. ID numbers for objects will be corrected. [pdf.py:1736]\n"
     ]
    },
    {
     "name": "stdout",
     "output_type": "stream",
     "text": [
      "Now treating file: ppp180425e.pdf\n",
      "Iterate: 133\n",
      "Now treating file: ppp130716e.pdf\n",
      "Iterate: 134\n"
     ]
    }
   ],
   "source": [
    "import os\n",
    "\n",
    "#Sebastian file path\n",
    "basedir = '/Users/matias/Documents/SDS-Group-35/Exam_Project/Minutes_PDF'\n",
    "\n",
    "def sentiment_analysis(pos, neg, file_path):\n",
    "    pos_words = []\n",
    "    neg_words = []\n",
    "    average_tone = []\n",
    "    i = 0\n",
    "    error = []\n",
    "    \n",
    "    for fn in os.listdir(file_path):\n",
    "        try:\n",
    "            print('Now treating file: ' + fn + '\\nIterate: ' + str(i))\n",
    "            doc = pdf_extractor(file_path + '/' + fn)\n",
    "            doc = pd.Series([''.join(doc)])\n",
    "            doc = doc.apply(preprocessing)\n",
    "\n",
    "            pos_words.append(int(count_dictionary(doc[0], pos)))\n",
    "            neg_words.append(int(count_dictionary(doc[0], neg)))\n",
    "            average_tone.append((pos_words[i]-neg_words[i])/len(doc[0]))\n",
    "            error.append(False)  \n",
    "            \n",
    "            i += 1\n",
    "        \n",
    "        except KeyError:\n",
    "            error.append(True)\n",
    "            pos_words.append(np.NaN)\n",
    "            neg_words.append(np.NaN)\n",
    "            average_tone.append(np.NaN)\n",
    "            \n",
    "            i += 1\n",
    "            \n",
    "        #date = re.findall(r'\\d+', fn)\n",
    "    df = pd.DataFrame(list(zip(pos_words, neg_words, average_tone, error)))\n",
    "    return df\n",
    "\n",
    "sent_df = sentiment_analysis(positive_cb, negative_cb, basedir)\n"
   ]
  },
  {
   "cell_type": "code",
   "execution_count": 25,
   "metadata": {},
   "outputs": [
    {
     "data": {
      "text/html": [
       "<div>\n",
       "<style scoped>\n",
       "    .dataframe tbody tr th:only-of-type {\n",
       "        vertical-align: middle;\n",
       "    }\n",
       "\n",
       "    .dataframe tbody tr th {\n",
       "        vertical-align: top;\n",
       "    }\n",
       "\n",
       "    .dataframe thead th {\n",
       "        text-align: right;\n",
       "    }\n",
       "</style>\n",
       "<table border=\"1\" class=\"dataframe\">\n",
       "  <thead>\n",
       "    <tr style=\"text-align: right;\">\n",
       "      <th></th>\n",
       "      <th>Number of positive words</th>\n",
       "      <th>Number of negative words</th>\n",
       "      <th>Average tone ratio</th>\n",
       "      <th>Error in processing PDF</th>\n",
       "    </tr>\n",
       "  </thead>\n",
       "  <tbody>\n",
       "    <tr>\n",
       "      <th>0</th>\n",
       "      <td>46</td>\n",
       "      <td>82</td>\n",
       "      <td>-0.003698</td>\n",
       "      <td>False</td>\n",
       "    </tr>\n",
       "    <tr>\n",
       "      <th>1</th>\n",
       "      <td>86</td>\n",
       "      <td>112</td>\n",
       "      <td>-0.001763</td>\n",
       "      <td>False</td>\n",
       "    </tr>\n",
       "    <tr>\n",
       "      <th>2</th>\n",
       "      <td>10</td>\n",
       "      <td>37</td>\n",
       "      <td>-0.007357</td>\n",
       "      <td>False</td>\n",
       "    </tr>\n",
       "    <tr>\n",
       "      <th>3</th>\n",
       "      <td>103</td>\n",
       "      <td>123</td>\n",
       "      <td>-0.001093</td>\n",
       "      <td>False</td>\n",
       "    </tr>\n",
       "    <tr>\n",
       "      <th>4</th>\n",
       "      <td>18</td>\n",
       "      <td>32</td>\n",
       "      <td>-0.002974</td>\n",
       "      <td>False</td>\n",
       "    </tr>\n",
       "  </tbody>\n",
       "</table>\n",
       "</div>"
      ],
      "text/plain": [
       "   Number of positive words  Number of negative words  Average tone ratio  \\\n",
       "0                        46                        82           -0.003698   \n",
       "1                        86                       112           -0.001763   \n",
       "2                        10                        37           -0.007357   \n",
       "3                       103                       123           -0.001093   \n",
       "4                        18                        32           -0.002974   \n",
       "\n",
       "   Error in processing PDF  \n",
       "0                    False  \n",
       "1                    False  \n",
       "2                    False  \n",
       "3                    False  \n",
       "4                    False  "
      ]
     },
     "execution_count": 25,
     "metadata": {},
     "output_type": "execute_result"
    }
   ],
   "source": [
    "sent_df.columns = ['Number of positive words', 'Number of negative words', 'Average tone ratio', 'Error in processing PDF']\n",
    "#print(sent_df.loc[sent_df['Number of positive words'] == True])\n",
    "len(list(filter(lambda x: x > 0, sent_df['Average tone ratio'])))\n",
    "sent_df.head()"
   ]
  },
  {
   "cell_type": "code",
   "execution_count": 32,
   "metadata": {},
   "outputs": [
    {
     "data": {
      "text/html": [
       "<div>\n",
       "<style scoped>\n",
       "    .dataframe tbody tr th:only-of-type {\n",
       "        vertical-align: middle;\n",
       "    }\n",
       "\n",
       "    .dataframe tbody tr th {\n",
       "        vertical-align: top;\n",
       "    }\n",
       "\n",
       "    .dataframe thead th {\n",
       "        text-align: right;\n",
       "    }\n",
       "</style>\n",
       "<table border=\"1\" class=\"dataframe\">\n",
       "  <thead>\n",
       "    <tr style=\"text-align: right;\">\n",
       "      <th></th>\n",
       "      <th>Dato</th>\n",
       "      <th>Filnavn</th>\n",
       "      <th>date_time</th>\n",
       "      <th>date</th>\n",
       "    </tr>\n",
       "  </thead>\n",
       "  <tbody>\n",
       "    <tr>\n",
       "      <th>0</th>\n",
       "      <td>2011-04-19</td>\n",
       "      <td>ppp110419e.pdf</td>\n",
       "      <td>2011-04-19</td>\n",
       "      <td>2011-04-20</td>\n",
       "    </tr>\n",
       "    <tr>\n",
       "      <th>1</th>\n",
       "      <td>2012-12-17</td>\n",
       "      <td>ppp121217e.pdf</td>\n",
       "      <td>2012-12-17</td>\n",
       "      <td>2012-12-18</td>\n",
       "    </tr>\n",
       "    <tr>\n",
       "      <th>2</th>\n",
       "      <td>2001-09-17</td>\n",
       "      <td>ppp010917e.pdf</td>\n",
       "      <td>2001-09-17</td>\n",
       "      <td>2001-09-18</td>\n",
       "    </tr>\n",
       "    <tr>\n",
       "      <th>3</th>\n",
       "      <td>2010-10-25</td>\n",
       "      <td>ppp101025e.pdf</td>\n",
       "      <td>2010-10-25</td>\n",
       "      <td>2010-10-26</td>\n",
       "    </tr>\n",
       "    <tr>\n",
       "      <th>4</th>\n",
       "      <td>2002-03-18</td>\n",
       "      <td>ppp020318e.pdf</td>\n",
       "      <td>2002-03-18</td>\n",
       "      <td>2002-03-19</td>\n",
       "    </tr>\n",
       "  </tbody>\n",
       "</table>\n",
       "</div>"
      ],
      "text/plain": [
       "         Dato         Filnavn  date_time       date\n",
       "0  2011-04-19  ppp110419e.pdf 2011-04-19 2011-04-20\n",
       "1  2012-12-17  ppp121217e.pdf 2012-12-17 2012-12-18\n",
       "2  2001-09-17  ppp010917e.pdf 2001-09-17 2001-09-18\n",
       "3  2010-10-25  ppp101025e.pdf 2010-10-25 2010-10-26\n",
       "4  2002-03-18  ppp020318e.pdf 2002-03-18 2002-03-19"
      ]
     },
     "execution_count": 32,
     "metadata": {},
     "output_type": "execute_result"
    }
   ],
   "source": [
    "import os, re, pandas as pd, ast, datetime\n",
    "\n",
    "#Mark file path:\n",
    "path = '/Users/matias/Documents/SDS-Group-35/Exam_Project/Minutes_PDF'\n",
    "\n",
    "files = []\n",
    "files2 = []\n",
    "\n",
    "# r=root, d=directories, f = files\n",
    "for r, d, f in os.walk(basedir):\n",
    "    for file in f:\n",
    "        if '.pdf' in file:\n",
    "            files.append('20' + file[3:5] + \"-\" + file[5:7] + \"-\" + file[7:9])\n",
    "            files2.append(file)\n",
    "\n",
    "Final_list = {'Dato':files,'Filnavn':files2}\n",
    "\n",
    "df_files = pd.DataFrame(Final_list)\n",
    "df_files['date_time'] = pd.to_datetime(df_files['Dato'])\n",
    "df_files['date'] = pd.to_datetime(df_files['Dato']) + pd.DateOffset(days=1)\n",
    "df_files.head()"
   ]
  },
  {
   "cell_type": "code",
   "execution_count": 34,
   "metadata": {},
   "outputs": [
    {
     "data": {
      "text/html": [
       "<div>\n",
       "<style scoped>\n",
       "    .dataframe tbody tr th:only-of-type {\n",
       "        vertical-align: middle;\n",
       "    }\n",
       "\n",
       "    .dataframe tbody tr th {\n",
       "        vertical-align: top;\n",
       "    }\n",
       "\n",
       "    .dataframe thead th {\n",
       "        text-align: right;\n",
       "    }\n",
       "</style>\n",
       "<table border=\"1\" class=\"dataframe\">\n",
       "  <thead>\n",
       "    <tr style=\"text-align: right;\">\n",
       "      <th></th>\n",
       "      <th>Number of positive words</th>\n",
       "      <th>Number of negative words</th>\n",
       "      <th>Average tone ratio</th>\n",
       "      <th>Error in processing PDF</th>\n",
       "      <th>Date time announcement</th>\n",
       "      <th>Date time announcement</th>\n",
       "      <th>date</th>\n",
       "    </tr>\n",
       "  </thead>\n",
       "  <tbody>\n",
       "    <tr>\n",
       "      <th>0</th>\n",
       "      <td>46</td>\n",
       "      <td>82</td>\n",
       "      <td>-0.003698</td>\n",
       "      <td>False</td>\n",
       "      <td>2011-04-20</td>\n",
       "      <td>2011-04-20</td>\n",
       "      <td>2011-04-20</td>\n",
       "    </tr>\n",
       "    <tr>\n",
       "      <th>1</th>\n",
       "      <td>86</td>\n",
       "      <td>112</td>\n",
       "      <td>-0.001763</td>\n",
       "      <td>False</td>\n",
       "      <td>2012-12-18</td>\n",
       "      <td>2012-12-18</td>\n",
       "      <td>2012-12-18</td>\n",
       "    </tr>\n",
       "    <tr>\n",
       "      <th>2</th>\n",
       "      <td>10</td>\n",
       "      <td>37</td>\n",
       "      <td>-0.007357</td>\n",
       "      <td>False</td>\n",
       "      <td>2001-09-18</td>\n",
       "      <td>2001-09-18</td>\n",
       "      <td>2001-09-18</td>\n",
       "    </tr>\n",
       "    <tr>\n",
       "      <th>3</th>\n",
       "      <td>103</td>\n",
       "      <td>123</td>\n",
       "      <td>-0.001093</td>\n",
       "      <td>False</td>\n",
       "      <td>2010-10-26</td>\n",
       "      <td>2010-10-26</td>\n",
       "      <td>2010-10-26</td>\n",
       "    </tr>\n",
       "    <tr>\n",
       "      <th>4</th>\n",
       "      <td>18</td>\n",
       "      <td>32</td>\n",
       "      <td>-0.002974</td>\n",
       "      <td>False</td>\n",
       "      <td>2002-03-19</td>\n",
       "      <td>2002-03-19</td>\n",
       "      <td>2002-03-19</td>\n",
       "    </tr>\n",
       "  </tbody>\n",
       "</table>\n",
       "</div>"
      ],
      "text/plain": [
       "   Number of positive words  Number of negative words  Average tone ratio  \\\n",
       "0                        46                        82           -0.003698   \n",
       "1                        86                       112           -0.001763   \n",
       "2                        10                        37           -0.007357   \n",
       "3                       103                       123           -0.001093   \n",
       "4                        18                        32           -0.002974   \n",
       "\n",
       "   Error in processing PDF Date time announcement Date time announcement  \\\n",
       "0                    False             2011-04-20             2011-04-20   \n",
       "1                    False             2012-12-18             2012-12-18   \n",
       "2                    False             2001-09-18             2001-09-18   \n",
       "3                    False             2010-10-26             2010-10-26   \n",
       "4                    False             2002-03-19             2002-03-19   \n",
       "\n",
       "        date  \n",
       "0 2011-04-20  \n",
       "1 2012-12-18  \n",
       "2 2001-09-18  \n",
       "3 2010-10-26  \n",
       "4 2002-03-19  "
      ]
     },
     "execution_count": 34,
     "metadata": {},
     "output_type": "execute_result"
    }
   ],
   "source": [
    "sent_df = pd.concat([sent_df, pd.Series(df_files['date'])], axis = 1, join = 'inner')\n",
    "sent_df.head()"
   ]
  },
  {
   "cell_type": "code",
   "execution_count": 36,
   "metadata": {},
   "outputs": [
    {
     "data": {
      "image/png": "[encoded data removed]",
      "text/plain": [
       "<Figure size 640x480 with 1 Axes>"
      ]
     },
     "metadata": {},
     "output_type": "display_data"
    }
   ],
   "source": [
    "import matplotlib.pyplot as plt\n",
    "\n",
    "plt.rcParams['figure.figsize'] = (9,4)\n",
    "plt.style.use('default')\n",
    "plt.rcParams.update({'font.size': 8})\n",
    "plt.rcParams['lines.markersize'] = 4\n",
    "\n",
    "x = np.array(sent_df['date'])\n",
    "y = np.array(sent_df['Average tone ratio'])\n",
    "\n",
    "# fit = np.polyfit(x, y, 4)\n",
    "# fit_fn = poly1d(fit)\n",
    "# print(fit_fn)\n",
    "\n",
    "# x_new = np.linspace(x[0], x[-1], 50)\n",
    "# y_new = f(x_new)\n",
    "\n",
    "plt.scatter(x, y)#, 'o', x_new, y_new)\n",
    "# plt.plot(x, y, fit)\n",
    "plt.axhline(y = 0, color = 'r', linestyle = '-', linewidth = 0.5)\n",
    "plt.show\n",
    "plt.savefig('Sentiment_scatter.png')"
   ]
  },
  {
   "cell_type": "markdown",
   "metadata": {},
   "source": [
    "### Collecting Stockmarket data"
   ]
  },
  {
   "cell_type": "code",
   "execution_count": 38,
   "metadata": {},
   "outputs": [],
   "source": [
    "path_omx = 'https://raw.githubusercontent.com/MatPiq/SDS-Group-35/master/Exam_Project/historic_data/omx30.csv'\n",
    "cols = ['date', 'closing value']\n",
    "omx = pd.read_csv(path_omx, sep=';', names = cols)"
   ]
  },
  {
   "cell_type": "code",
   "execution_count": 51,
   "metadata": {},
   "outputs": [],
   "source": [
    "#opening value column\n",
    "omx['opening value'] = omx['closing value'].shift(-1)\n",
    "omx['date'] = pd.to_datetime(omx['date'])\n",
    "\n",
    "\n",
    "#Difference between opening and closing value\n",
    "omx['dif abs'] = omx['opening value'] - omx['closing value']\n",
    "omx['dif frac'] = (omx['opening value']-omx['closing value']) / omx['closing value']\n",
    "omx = omx.iloc[::-1]"
   ]
  },
  {
   "cell_type": "code",
   "execution_count": 67,
   "metadata": {},
   "outputs": [
    {
     "data": {
      "image/png": "[encoded data removed]",
      "text/plain": [
       "<Figure size 720x360 with 1 Axes>"
      ]
     },
     "metadata": {
      "needs_background": "light"
     },
     "output_type": "display_data"
    }
   ],
   "source": [
    "omx.drop(omx.loc[omx['closing value']==0].index, inplace=True)\n",
    "omx.plot('date', 'closing value', grid = True, legend = False, figsize=(10, 5))\n",
    "plt.savefig('omx.png')"
   ]
  },
  {
   "cell_type": "markdown",
   "metadata": {},
   "source": [
    "### Collecting Repo data"
   ]
  },
  {
   "cell_type": "code",
   "execution_count": 53,
   "metadata": {},
   "outputs": [],
   "source": [
    "\n",
    "#import repo\n",
    "path_repo = 'https://raw.githubusercontent.com/MatPiq/SDS-Group-35/master/Exam_Project/historic_data/reporate.csv'\n",
    "cols = ['date', 'repoann', 'repoeff']\n",
    "repo = pd.read_csv(path_repo, sep=';', error_bad_lines=False, names = cols)\n",
    "repo['date'] = pd.to_datetime(repo['date'])"
   ]
  },
  {
   "cell_type": "code",
   "execution_count": 54,
   "metadata": {},
   "outputs": [],
   "source": [
    "#change in repo column\n",
    "repo['repo_ch'] = repo['repoann']-repo['repoeff']"
   ]
  },
  {
   "cell_type": "code",
   "execution_count": 55,
   "metadata": {},
   "outputs": [
    {
     "data": {
      "image/png": "[encoded data removed]",
      "text/plain": [
       "<Figure size 720x360 with 1 Axes>"
      ]
     },
     "metadata": {
      "needs_background": "light"
     },
     "output_type": "display_data"
    }
   ],
   "source": [
    "repo.plot('date', 'repoann', grid = True, legend = False, figsize=(10, 5))\n",
    "plt.savefig('repo.png')"
   ]
  },
  {
   "cell_type": "markdown",
   "metadata": {},
   "source": [
    "### Merging complete dataframe"
   ]
  },
  {
   "cell_type": "code",
   "execution_count": 56,
   "metadata": {},
   "outputs": [],
   "source": [
    "#Necesary imports\n",
    "import pandas as pd\n",
    "import numpy as np\n",
    "import seaborn as sns\n",
    "import matplotlib.pyplot as plt\n",
    "\n",
    "%matplotlib inline"
   ]
  },
  {
   "cell_type": "code",
   "execution_count": 57,
   "metadata": {},
   "outputs": [],
   "source": [
    "#Merge repo and omx\n",
    "repo_omx = pd.merge(repo, omx, on = 'date', how = 'inner')\n"
   ]
  },
  {
   "cell_type": "code",
   "execution_count": 58,
   "metadata": {},
   "outputs": [
    {
     "data": {
      "text/html": [
       "<div>\n",
       "<style scoped>\n",
       "    .dataframe tbody tr th:only-of-type {\n",
       "        vertical-align: middle;\n",
       "    }\n",
       "\n",
       "    .dataframe tbody tr th {\n",
       "        vertical-align: top;\n",
       "    }\n",
       "\n",
       "    .dataframe thead th {\n",
       "        text-align: right;\n",
       "    }\n",
       "</style>\n",
       "<table border=\"1\" class=\"dataframe\">\n",
       "  <thead>\n",
       "    <tr style=\"text-align: right;\">\n",
       "      <th></th>\n",
       "      <th>date</th>\n",
       "      <th>repoann</th>\n",
       "      <th>repoeff</th>\n",
       "      <th>repo_ch</th>\n",
       "      <th>closing value</th>\n",
       "      <th>opening value</th>\n",
       "      <th>dif abs</th>\n",
       "      <th>dif frac</th>\n",
       "    </tr>\n",
       "  </thead>\n",
       "  <tbody>\n",
       "    <tr>\n",
       "      <th>0</th>\n",
       "      <td>1994-06-01</td>\n",
       "      <td>6.95</td>\n",
       "      <td>6.95</td>\n",
       "      <td>0.0</td>\n",
       "      <td>283.35</td>\n",
       "      <td>282.32</td>\n",
       "      <td>-1.03</td>\n",
       "      <td>-0.003635</td>\n",
       "    </tr>\n",
       "    <tr>\n",
       "      <th>1</th>\n",
       "      <td>1994-06-02</td>\n",
       "      <td>6.95</td>\n",
       "      <td>6.95</td>\n",
       "      <td>0.0</td>\n",
       "      <td>282.32</td>\n",
       "      <td>284.12</td>\n",
       "      <td>1.80</td>\n",
       "      <td>0.006376</td>\n",
       "    </tr>\n",
       "    <tr>\n",
       "      <th>2</th>\n",
       "      <td>1994-06-03</td>\n",
       "      <td>6.95</td>\n",
       "      <td>6.95</td>\n",
       "      <td>0.0</td>\n",
       "      <td>284.12</td>\n",
       "      <td>286.71</td>\n",
       "      <td>2.59</td>\n",
       "      <td>0.009116</td>\n",
       "    </tr>\n",
       "    <tr>\n",
       "      <th>3</th>\n",
       "      <td>1994-06-06</td>\n",
       "      <td>6.95</td>\n",
       "      <td>6.95</td>\n",
       "      <td>0.0</td>\n",
       "      <td>286.71</td>\n",
       "      <td>282.07</td>\n",
       "      <td>-4.64</td>\n",
       "      <td>-0.016184</td>\n",
       "    </tr>\n",
       "    <tr>\n",
       "      <th>4</th>\n",
       "      <td>1994-06-07</td>\n",
       "      <td>6.95</td>\n",
       "      <td>6.95</td>\n",
       "      <td>0.0</td>\n",
       "      <td>282.07</td>\n",
       "      <td>283.50</td>\n",
       "      <td>1.43</td>\n",
       "      <td>0.005070</td>\n",
       "    </tr>\n",
       "  </tbody>\n",
       "</table>\n",
       "</div>"
      ],
      "text/plain": [
       "        date  repoann  repoeff  repo_ch  closing value  opening value  \\\n",
       "0 1994-06-01     6.95     6.95      0.0         283.35         282.32   \n",
       "1 1994-06-02     6.95     6.95      0.0         282.32         284.12   \n",
       "2 1994-06-03     6.95     6.95      0.0         284.12         286.71   \n",
       "3 1994-06-06     6.95     6.95      0.0         286.71         282.07   \n",
       "4 1994-06-07     6.95     6.95      0.0         282.07         283.50   \n",
       "\n",
       "   dif abs  dif frac  \n",
       "0    -1.03 -0.003635  \n",
       "1     1.80  0.006376  \n",
       "2     2.59  0.009116  \n",
       "3    -4.64 -0.016184  \n",
       "4     1.43  0.005070  "
      ]
     },
     "execution_count": 58,
     "metadata": {},
     "output_type": "execute_result"
    }
   ],
   "source": [
    "#Inspect and drop NaN\n",
    "nan_rows = repo_omx[repo_omx.isnull().T.any().T]\n",
    "repo_omx.dropna()\n",
    "repo_omx.head()"
   ]
  },
  {
   "cell_type": "code",
   "execution_count": 63,
   "metadata": {},
   "outputs": [
    {
     "data": {
      "text/html": [
       "<div>\n",
       "<style scoped>\n",
       "    .dataframe tbody tr th:only-of-type {\n",
       "        vertical-align: middle;\n",
       "    }\n",
       "\n",
       "    .dataframe tbody tr th {\n",
       "        vertical-align: top;\n",
       "    }\n",
       "\n",
       "    .dataframe thead th {\n",
       "        text-align: right;\n",
       "    }\n",
       "</style>\n",
       "<table border=\"1\" class=\"dataframe\">\n",
       "  <thead>\n",
       "    <tr style=\"text-align: right;\">\n",
       "      <th></th>\n",
       "      <th>date</th>\n",
       "      <th>repoann</th>\n",
       "      <th>repoeff</th>\n",
       "      <th>repo_ch</th>\n",
       "      <th>closing value</th>\n",
       "      <th>opening value</th>\n",
       "      <th>dif abs</th>\n",
       "      <th>dif frac</th>\n",
       "      <th>Number of positive words</th>\n",
       "      <th>Number of negative words</th>\n",
       "      <th>Average tone ratio</th>\n",
       "      <th>Error in processing PDF</th>\n",
       "      <th>Date time announcement</th>\n",
       "      <th>Date time announcement</th>\n",
       "    </tr>\n",
       "  </thead>\n",
       "  <tbody>\n",
       "    <tr>\n",
       "      <th>0</th>\n",
       "      <td>2000-02-04</td>\n",
       "      <td>3.75</td>\n",
       "      <td>3.25</td>\n",
       "      <td>0.5</td>\n",
       "      <td>1329.30</td>\n",
       "      <td>1349.28</td>\n",
       "      <td>19.98</td>\n",
       "      <td>0.015030</td>\n",
       "      <td>30</td>\n",
       "      <td>35</td>\n",
       "      <td>-0.000822</td>\n",
       "      <td>False</td>\n",
       "      <td>2000-02-04</td>\n",
       "      <td>2000-02-04</td>\n",
       "    </tr>\n",
       "    <tr>\n",
       "      <th>1</th>\n",
       "      <td>2000-03-23</td>\n",
       "      <td>3.75</td>\n",
       "      <td>3.75</td>\n",
       "      <td>0.0</td>\n",
       "      <td>1467.11</td>\n",
       "      <td>1478.75</td>\n",
       "      <td>11.64</td>\n",
       "      <td>0.007934</td>\n",
       "      <td>11</td>\n",
       "      <td>19</td>\n",
       "      <td>-0.001847</td>\n",
       "      <td>False</td>\n",
       "      <td>2000-03-23</td>\n",
       "      <td>2000-03-23</td>\n",
       "    </tr>\n",
       "    <tr>\n",
       "      <th>2</th>\n",
       "      <td>2000-05-05</td>\n",
       "      <td>3.75</td>\n",
       "      <td>3.75</td>\n",
       "      <td>0.0</td>\n",
       "      <td>1455.40</td>\n",
       "      <td>1444.37</td>\n",
       "      <td>-11.03</td>\n",
       "      <td>-0.007579</td>\n",
       "      <td>20</td>\n",
       "      <td>25</td>\n",
       "      <td>-0.001100</td>\n",
       "      <td>False</td>\n",
       "      <td>2000-05-05</td>\n",
       "      <td>2000-05-05</td>\n",
       "    </tr>\n",
       "    <tr>\n",
       "      <th>3</th>\n",
       "      <td>2000-06-08</td>\n",
       "      <td>3.75</td>\n",
       "      <td>3.75</td>\n",
       "      <td>0.0</td>\n",
       "      <td>1447.91</td>\n",
       "      <td>1439.05</td>\n",
       "      <td>-8.86</td>\n",
       "      <td>-0.006119</td>\n",
       "      <td>12</td>\n",
       "      <td>21</td>\n",
       "      <td>-0.002571</td>\n",
       "      <td>False</td>\n",
       "      <td>2000-06-08</td>\n",
       "      <td>2000-06-08</td>\n",
       "    </tr>\n",
       "    <tr>\n",
       "      <th>4</th>\n",
       "      <td>2000-07-07</td>\n",
       "      <td>3.75</td>\n",
       "      <td>3.75</td>\n",
       "      <td>0.0</td>\n",
       "      <td>1382.78</td>\n",
       "      <td>1380.42</td>\n",
       "      <td>-2.36</td>\n",
       "      <td>-0.001707</td>\n",
       "      <td>12</td>\n",
       "      <td>28</td>\n",
       "      <td>-0.003221</td>\n",
       "      <td>False</td>\n",
       "      <td>2000-07-07</td>\n",
       "      <td>2000-07-07</td>\n",
       "    </tr>\n",
       "  </tbody>\n",
       "</table>\n",
       "</div>"
      ],
      "text/plain": [
       "        date  repoann  repoeff  repo_ch  closing value  opening value  \\\n",
       "0 2000-02-04     3.75     3.25      0.5        1329.30        1349.28   \n",
       "1 2000-03-23     3.75     3.75      0.0        1467.11        1478.75   \n",
       "2 2000-05-05     3.75     3.75      0.0        1455.40        1444.37   \n",
       "3 2000-06-08     3.75     3.75      0.0        1447.91        1439.05   \n",
       "4 2000-07-07     3.75     3.75      0.0        1382.78        1380.42   \n",
       "\n",
       "   dif abs  dif frac  Number of positive words  Number of negative words  \\\n",
       "0    19.98  0.015030                        30                        35   \n",
       "1    11.64  0.007934                        11                        19   \n",
       "2   -11.03 -0.007579                        20                        25   \n",
       "3    -8.86 -0.006119                        12                        21   \n",
       "4    -2.36 -0.001707                        12                        28   \n",
       "\n",
       "   Average tone ratio  Error in processing PDF Date time announcement  \\\n",
       "0           -0.000822                    False             2000-02-04   \n",
       "1           -0.001847                    False             2000-03-23   \n",
       "2           -0.001100                    False             2000-05-05   \n",
       "3           -0.002571                    False             2000-06-08   \n",
       "4           -0.003221                    False             2000-07-07   \n",
       "\n",
       "  Date time announcement  \n",
       "0             2000-02-04  \n",
       "1             2000-03-23  \n",
       "2             2000-05-05  \n",
       "3             2000-06-08  \n",
       "4             2000-07-07  "
      ]
     },
     "execution_count": 63,
     "metadata": {},
     "output_type": "execute_result"
    }
   ],
   "source": [
    "#merge repo_omx with sentiment analysis\n",
    "complete_df = pd.merge(repo_omx, sent_df, on = 'date', how = 'inner')\n",
    "complete_df.head()"
   ]
  },
  {
   "cell_type": "code",
   "execution_count": 62,
   "metadata": {},
   "outputs": [
    {
     "data": {
      "image/png": "[encoded data removed]",
      "text/plain": [
       "<Figure size 432x288 with 2 Axes>"
      ]
     },
     "metadata": {
      "needs_background": "light"
     },
     "output_type": "display_data"
    }
   ],
   "source": [
    "corr = complete_df.corr()\n",
    "ax = sns.heatmap(\n",
    "    corr, \n",
    "    vmin=-1, vmax=1, center=0,\n",
    "    cmap=sns.diverging_palette(20, 220, n=200),\n",
    "    square=True\n",
    ")\n",
    "ax.set_xticklabels(\n",
    "    ax.get_xticklabels(),\n",
    "    rotation=45,\n",
    "    horizontalalignment='right'\n",
    ");"
   ]
  },
  {
   "cell_type": "markdown",
   "metadata": {},
   "source": [
    "### Dataframe quality assorance and validation"
   ]
  },
  {
   "cell_type": "markdown",
   "metadata": {},
   "source": [
    "## Sentiment analysis"
   ]
  },
  {
   "cell_type": "markdown",
   "metadata": {},
   "source": [
    "### Model validation"
   ]
  },
  {
   "cell_type": "markdown",
   "metadata": {},
   "source": [
    "## Machine learning Model"
   ]
  },
  {
   "cell_type": "code",
   "execution_count": 104,
   "metadata": {},
   "outputs": [],
   "source": [
    "import pandas as pd, numpy as np, sklearn\n",
    "\n",
    "from sklearn.model_selection import train_test_split\n",
    "from sklearn.preprocessing import PolynomialFeatures\n",
    "from sklearn.linear_model import LinearRegression, Lasso\n",
    "from sklearn.metrics import mean_squared_error as mse\n",
    "from sklearn.pipeline import make_pipeline\n",
    "from sklearn.preprocessing import StandardScaler"
   ]
  },
  {
   "cell_type": "code",
   "execution_count": 105,
   "metadata": {},
   "outputs": [],
   "source": [
    "# slicing the data\n",
    "\n",
    "X = complete_df.loc[ : , ['Average tone ratio', 'repoann']] # explanatory variables\n",
    "\n",
    "y = complete_df.loc[ : , ['dif frac']] # value to be preicted\n"
   ]
  },
  {
   "cell_type": "code",
   "execution_count": 106,
   "metadata": {},
   "outputs": [
    {
     "name": "stdout",
     "output_type": "stream",
     "text": [
      "[array([[ 0.00173644, -0.07770619,  0.01226166,  0.01253072,  0.08419986]]), array([[ 0.00173644, -0.07770619,  0.01226166,  0.01253072,  0.08419986]]), array([[ 0.00173644, -0.07770619,  0.01226166,  0.01253072,  0.08419986]])]\n"
     ]
    }
   ],
   "source": [
    "# Linear regression\n",
    "\n",
    "X_train, X_test, y_train, y_test = train_test_split(X, y, test_size=.3, random_state=0) #split into training and test, random state to get the same output.\n",
    "\n",
    "pipe_lr = make_pipeline(PolynomialFeatures(include_bias = False),  #including/excluding the bias depends on our choice\n",
    "                        StandardScaler())\n",
    "                        #LinearRegression())\n",
    "\n",
    "test_mse = []\n",
    "train_mse = []\n",
    "parameters = []\n",
    "degrees = range(3)\n",
    "\n",
    "for p in degrees:\n",
    "    X_train_p = pipe_lr.fit_transform(X_train, y_train) # polynomial expansion and transformation of the data\n",
    "    #X_test_p = pipe_lr.transform(X_test) # transform takes the test data and rescles it\n",
    "    reg = LinearRegression().fit(X_train_p, y_train) \n",
    "    train_mse += [mse(reg.predict(X_train_p),y_train)] \n",
    "    test_mse += [mse(reg.predict(X_test_p),y_test)]     \n",
    "    parameters.append(reg.coef_)\n",
    "    \n",
    "print(parameters)"
   ]
  },
  {
   "cell_type": "code",
   "execution_count": 107,
   "metadata": {},
   "outputs": [],
   "source": [
    "# create and split development set into validation and training\n",
    "\n",
    "# splitting into development (2/3) and test data (1/3)\n",
    "X_dev, X_test, y_dev, y_test = train_test_split(X, y, test_size=1/3, random_state=1)\n",
    "\n",
    "# splitting development into train (1/3) and validation (1/3), so divide by half!\n",
    "X_train, X_val, y_train, y_val = train_test_split(X_dev, y_dev, test_size=1/2, random_state=1)"
   ]
  },
  {
   "cell_type": "code",
   "execution_count": 108,
   "metadata": {},
   "outputs": [
    {
     "name": "stdout",
     "output_type": "stream",
     "text": [
      "Optimal alpha: 0.0018329807108324356\n",
      "Validation MSE: 0.000\n",
      "Lasso 0.044\n",
      "LinReg 0.045\n"
     ]
    }
   ],
   "source": [
    "# Lasso model: we remove the bias, i.e. beta_0 and we estimate a parameter that improves the prediction\n",
    "pipe_lr = make_pipeline(PolynomialFeatures(include_bias = False),  #including/excluding the bias depends on our choice\n",
    "                        StandardScaler(),\n",
    "                        LinearRegression())\n",
    "\n",
    "perform = []\n",
    "lambdas = np.logspace(-4, 4, 20)\n",
    "for lambda_ in lambdas:\n",
    "    pipe_lasso = make_pipeline(PolynomialFeatures(include_bias=False), #multiple pipelines\n",
    "                               StandardScaler(),\n",
    "                               Lasso(alpha=lambda_, random_state=1))\n",
    "    pipe_lasso.fit(X_train, y_train) # fit on training data\n",
    "    y_pred = pipe_lasso.predict(X_val) # predict performance on validation set\n",
    "    perform.append(mse(y_pred, y_val)) # saved as a series of lambdas\n",
    "    \n",
    "hyperparam_perform = pd.Series(perform,index=lambdas)\n",
    "hyperparam_perform.nsmallest(1) # select the smallest hyperparameter\n",
    "\n",
    "optimal = hyperparam_perform.nsmallest(1)    \n",
    "print('Optimal alpha:', optimal.index[0])\n",
    "print('Validation MSE: %.3f' % optimal.values[0])\n",
    "\n",
    "# insert optimal  lambda in new model\n",
    "\n",
    "pipe_lasso = make_pipeline(PolynomialFeatures(include_bias=False), \n",
    "                           StandardScaler(),\n",
    "                           Lasso(alpha=optimal.index[0])) # new value..., alpha is lambda!\n",
    "# fit new model on all development data, fit = estimate!\n",
    "pipe_lasso.fit(X_dev,y_dev)\n",
    "pipe_lr.fit(X_dev,y_dev)\n",
    "\n",
    "# compare model performance on test data\n",
    "print('Lasso', round(mse(pipe_lasso.predict(X_test),y_test), 3)) # smaller mse, better performance than linear model\n",
    "print('LinReg', round(mse(pipe_lr.predict(X_test),y_test), 3))"
   ]
  },
  {
   "cell_type": "code",
   "execution_count": 109,
   "metadata": {},
   "outputs": [
    {
     "name": "stdout",
     "output_type": "stream",
     "text": [
      "0.04451022719461443\n",
      "CV params: {'elasticnet__alpha': 0.011989685006378818, 'elasticnet__l1_ratio': 0.4444444444444444}\n"
     ]
    }
   ],
   "source": [
    "# ELASTIC NET\n",
    "# more than one hyperparameters (L1, L2, n of features for polynoimial expansion (also chosen, can be optimized))\n",
    "# grid search = search in multiple dimension.\n",
    "\n",
    "from sklearn.model_selection import GridSearchCV\n",
    "from sklearn.linear_model import ElasticNet\n",
    "\n",
    "pipe_el = make_pipeline(PolynomialFeatures(include_bias=False), # same as before\n",
    "                        StandardScaler(),\n",
    "                        ElasticNet())\n",
    "gs = GridSearchCV(estimator=pipe_el, \n",
    "                  param_grid={'elasticnet__alpha':np.logspace(-4,4,10)*2, # two-dimesional grid 10*10 = 100 combinations\n",
    "                              'elasticnet__l1_ratio':np.linspace(0,1,10)},  # how much the regularization of the two parameters \n",
    "                                                                            # should be\n",
    "                  scoring='neg_mean_squared_error', # - MSE, minimizer!\n",
    "                  n_jobs=4, # parallelize :) make computation faster\n",
    "                  iid=False, # was giving a warning\n",
    "                  cv=10)\n",
    "\n",
    "model = gs.fit(X_train, y_train)\n",
    "#for name, model in models.items():\n",
    "score = mse(model.predict(X_test),y_test) # finally using the test data.\n",
    "#print(name, round(score, 2))\n",
    "print(score)\n",
    "print('CV params:', gs.best_params_) # net outperformed the lassob"
   ]
  },
  {
   "cell_type": "code",
   "execution_count": 113,
   "metadata": {},
   "outputs": [
    {
     "ename": "KeyError",
     "evalue": "'[18 19 20 21 22 23 24 25 26 27 28 29 30 31 32 33 34 35 36 37 38 39 40 41\\n 42 43 44 45 46 47 48 49 50 51 52 53 54 55 56 57 58 59 60 61 62 63 64 65\\n 66 67 68 69 70 71 72 73 74 75 76 77 78 79 80 81 82 83 84 85 86 87 88] not in index'",
     "output_type": "error",
     "traceback": [
      "\u001b[0;31m---------------------------------------------------------------------------\u001b[0m",
      "\u001b[0;31mKeyError\u001b[0m                                  Traceback (most recent call last)",
      "\u001b[0;32m<ipython-input-113-a65cd16e9444>\u001b[0m in \u001b[0;36m<module>\u001b[0;34m\u001b[0m\n\u001b[1;32m     25\u001b[0m                                      \u001b[0mStandardScaler\u001b[0m\u001b[0;34m(\u001b[0m\u001b[0;34m)\u001b[0m\u001b[0;34m,\u001b[0m\u001b[0;34m\u001b[0m\u001b[0;34m\u001b[0m\u001b[0m\n\u001b[1;32m     26\u001b[0m                                      Lasso(alpha=lambda_, random_state=1))            \n\u001b[0;32m---> 27\u001b[0;31m         \u001b[0mX_train\u001b[0m\u001b[0;34m,\u001b[0m \u001b[0my_train\u001b[0m \u001b[0;34m=\u001b[0m \u001b[0mX_dev\u001b[0m\u001b[0;34m[\u001b[0m\u001b[0mtrain_idx\u001b[0m\u001b[0;34m]\u001b[0m\u001b[0;34m,\u001b[0m \u001b[0my_dev\u001b[0m\u001b[0;34m[\u001b[0m\u001b[0mtrain_idx\u001b[0m\u001b[0;34m]\u001b[0m\u001b[0;34m\u001b[0m\u001b[0;34m\u001b[0m\u001b[0m\n\u001b[0m\u001b[1;32m     28\u001b[0m         \u001b[0mX_val\u001b[0m\u001b[0;34m,\u001b[0m \u001b[0my_val\u001b[0m \u001b[0;34m=\u001b[0m \u001b[0mX_dev\u001b[0m\u001b[0;34m[\u001b[0m\u001b[0mval_idx\u001b[0m\u001b[0;34m]\u001b[0m\u001b[0;34m,\u001b[0m \u001b[0my_dev\u001b[0m\u001b[0;34m[\u001b[0m\u001b[0mval_idx\u001b[0m\u001b[0;34m]\u001b[0m\u001b[0;34m\u001b[0m\u001b[0;34m\u001b[0m\u001b[0m\n\u001b[1;32m     29\u001b[0m         \u001b[0mpipe_lassoCV\u001b[0m\u001b[0;34m.\u001b[0m\u001b[0mfit\u001b[0m\u001b[0;34m(\u001b[0m\u001b[0mX_train\u001b[0m\u001b[0;34m,\u001b[0m \u001b[0my_train\u001b[0m\u001b[0;34m)\u001b[0m     \u001b[0;31m# fit the model on train data\u001b[0m\u001b[0;34m\u001b[0m\u001b[0;34m\u001b[0m\u001b[0m\n",
      "\u001b[0;32m~/anaconda3/lib/python3.7/site-packages/pandas/core/frame.py\u001b[0m in \u001b[0;36m__getitem__\u001b[0;34m(self, key)\u001b[0m\n\u001b[1;32m   2680\u001b[0m         \u001b[0;32mif\u001b[0m \u001b[0misinstance\u001b[0m\u001b[0;34m(\u001b[0m\u001b[0mkey\u001b[0m\u001b[0;34m,\u001b[0m \u001b[0;34m(\u001b[0m\u001b[0mSeries\u001b[0m\u001b[0;34m,\u001b[0m \u001b[0mnp\u001b[0m\u001b[0;34m.\u001b[0m\u001b[0mndarray\u001b[0m\u001b[0;34m,\u001b[0m \u001b[0mIndex\u001b[0m\u001b[0;34m,\u001b[0m \u001b[0mlist\u001b[0m\u001b[0;34m)\u001b[0m\u001b[0;34m)\u001b[0m\u001b[0;34m:\u001b[0m\u001b[0;34m\u001b[0m\u001b[0;34m\u001b[0m\u001b[0m\n\u001b[1;32m   2681\u001b[0m             \u001b[0;31m# either boolean or fancy integer index\u001b[0m\u001b[0;34m\u001b[0m\u001b[0;34m\u001b[0m\u001b[0;34m\u001b[0m\u001b[0m\n\u001b[0;32m-> 2682\u001b[0;31m             \u001b[0;32mreturn\u001b[0m \u001b[0mself\u001b[0m\u001b[0;34m.\u001b[0m\u001b[0m_getitem_array\u001b[0m\u001b[0;34m(\u001b[0m\u001b[0mkey\u001b[0m\u001b[0;34m)\u001b[0m\u001b[0;34m\u001b[0m\u001b[0;34m\u001b[0m\u001b[0m\n\u001b[0m\u001b[1;32m   2683\u001b[0m         \u001b[0;32melif\u001b[0m \u001b[0misinstance\u001b[0m\u001b[0;34m(\u001b[0m\u001b[0mkey\u001b[0m\u001b[0;34m,\u001b[0m \u001b[0mDataFrame\u001b[0m\u001b[0;34m)\u001b[0m\u001b[0;34m:\u001b[0m\u001b[0;34m\u001b[0m\u001b[0;34m\u001b[0m\u001b[0m\n\u001b[1;32m   2684\u001b[0m             \u001b[0;32mreturn\u001b[0m \u001b[0mself\u001b[0m\u001b[0;34m.\u001b[0m\u001b[0m_getitem_frame\u001b[0m\u001b[0;34m(\u001b[0m\u001b[0mkey\u001b[0m\u001b[0;34m)\u001b[0m\u001b[0;34m\u001b[0m\u001b[0;34m\u001b[0m\u001b[0m\n",
      "\u001b[0;32m~/anaconda3/lib/python3.7/site-packages/pandas/core/frame.py\u001b[0m in \u001b[0;36m_getitem_array\u001b[0;34m(self, key)\u001b[0m\n\u001b[1;32m   2724\u001b[0m             \u001b[0;32mreturn\u001b[0m \u001b[0mself\u001b[0m\u001b[0;34m.\u001b[0m\u001b[0m_take\u001b[0m\u001b[0;34m(\u001b[0m\u001b[0mindexer\u001b[0m\u001b[0;34m,\u001b[0m \u001b[0maxis\u001b[0m\u001b[0;34m=\u001b[0m\u001b[0;36m0\u001b[0m\u001b[0;34m)\u001b[0m\u001b[0;34m\u001b[0m\u001b[0;34m\u001b[0m\u001b[0m\n\u001b[1;32m   2725\u001b[0m         \u001b[0;32melse\u001b[0m\u001b[0;34m:\u001b[0m\u001b[0;34m\u001b[0m\u001b[0;34m\u001b[0m\u001b[0m\n\u001b[0;32m-> 2726\u001b[0;31m             \u001b[0mindexer\u001b[0m \u001b[0;34m=\u001b[0m \u001b[0mself\u001b[0m\u001b[0;34m.\u001b[0m\u001b[0mloc\u001b[0m\u001b[0;34m.\u001b[0m\u001b[0m_convert_to_indexer\u001b[0m\u001b[0;34m(\u001b[0m\u001b[0mkey\u001b[0m\u001b[0;34m,\u001b[0m \u001b[0maxis\u001b[0m\u001b[0;34m=\u001b[0m\u001b[0;36m1\u001b[0m\u001b[0;34m)\u001b[0m\u001b[0;34m\u001b[0m\u001b[0;34m\u001b[0m\u001b[0m\n\u001b[0m\u001b[1;32m   2727\u001b[0m             \u001b[0;32mreturn\u001b[0m \u001b[0mself\u001b[0m\u001b[0;34m.\u001b[0m\u001b[0m_take\u001b[0m\u001b[0;34m(\u001b[0m\u001b[0mindexer\u001b[0m\u001b[0;34m,\u001b[0m \u001b[0maxis\u001b[0m\u001b[0;34m=\u001b[0m\u001b[0;36m1\u001b[0m\u001b[0;34m)\u001b[0m\u001b[0;34m\u001b[0m\u001b[0;34m\u001b[0m\u001b[0m\n\u001b[1;32m   2728\u001b[0m \u001b[0;34m\u001b[0m\u001b[0m\n",
      "\u001b[0;32m~/anaconda3/lib/python3.7/site-packages/pandas/core/indexing.py\u001b[0m in \u001b[0;36m_convert_to_indexer\u001b[0;34m(self, obj, axis, is_setter)\u001b[0m\n\u001b[1;32m   1325\u001b[0m                 \u001b[0;32mif\u001b[0m \u001b[0mmask\u001b[0m\u001b[0;34m.\u001b[0m\u001b[0many\u001b[0m\u001b[0;34m(\u001b[0m\u001b[0;34m)\u001b[0m\u001b[0;34m:\u001b[0m\u001b[0;34m\u001b[0m\u001b[0;34m\u001b[0m\u001b[0m\n\u001b[1;32m   1326\u001b[0m                     raise KeyError('{mask} not in index'\n\u001b[0;32m-> 1327\u001b[0;31m                                    .format(mask=objarr[mask]))\n\u001b[0m\u001b[1;32m   1328\u001b[0m \u001b[0;34m\u001b[0m\u001b[0m\n\u001b[1;32m   1329\u001b[0m                 \u001b[0;32mreturn\u001b[0m \u001b[0mcom\u001b[0m\u001b[0;34m.\u001b[0m\u001b[0m_values_from_object\u001b[0m\u001b[0;34m(\u001b[0m\u001b[0mindexer\u001b[0m\u001b[0;34m)\u001b[0m\u001b[0;34m\u001b[0m\u001b[0;34m\u001b[0m\u001b[0m\n",
      "\u001b[0;31mKeyError\u001b[0m: '[18 19 20 21 22 23 24 25 26 27 28 29 30 31 32 33 34 35 36 37 38 39 40 41\\n 42 43 44 45 46 47 48 49 50 51 52 53 54 55 56 57 58 59 60 61 62 63 64 65\\n 66 67 68 69 70 71 72 73 74 75 76 77 78 79 80 81 82 83 84 85 86 87 88] not in index'"
     ]
    }
   ],
   "source": [
    "# other evaluation method\n",
    "# CROSS VALIDATION\n",
    "\n",
    "# instead of using on epart of the data, we use all the data, rotating validation and training sets\n",
    "# 10% testing, 90% training. cross-validation changes the 10% share. \n",
    "\n",
    "# leave one out corss validation\n",
    "# take each obs, all other data used to make a model and that one used to test. most robust approach.\n",
    "\n",
    "# K-fold method: data divided into k bins, k-1 used to train the (entire) data.\n",
    "\n",
    "# K as large as possible (10 bins usually). this does not cause leakage because it is not the same model over and over.\n",
    "\n",
    "from sklearn.model_selection import KFold\n",
    "kfolds = KFold(n_splits=5) # number of bins\n",
    "folds = list(kfolds.split(X_dev, y_dev))\n",
    "# outer loop: lambdas, for each of the lambda\n",
    "mseCV = []\n",
    "for lambda_ in lambdas:    \n",
    "    # inner loop: folds for each of the splits, we want to make the model\n",
    "    mseCV_ = []    \n",
    "    for train_idx, val_idx in folds:        \n",
    "        # train model and compute MSE on test fold\n",
    "        pipe_lassoCV = make_pipeline(PolynomialFeatures(degree=3, include_bias=True),\n",
    "                                     StandardScaler(),\n",
    "                                     Lasso(alpha=lambda_, random_state=1))            \n",
    "        X_train, y_train = X_dev[train_idx], y_dev[train_idx] \n",
    "        X_val, y_val = X_dev[val_idx], y_dev[val_idx] \n",
    "        pipe_lassoCV.fit(X_train, y_train)     # fit the model on train data    \n",
    "        mseCV_.append(mse(pipe_lassoCV.predict(X_val), y_val))    # append on validation sample and store result\n",
    "        \n",
    "    # store result    \n",
    "    mseCV.append(mseCV_) # list of lists, becomes a dataframe next\n",
    "    \n",
    "# convert to DataFrame\n",
    "lambdaCV = pd.DataFrame(mseCV, index=lambdas)"
   ]
  },
  {
   "cell_type": "markdown",
   "metadata": {},
   "source": [
    "### Model validation"
   ]
  },
  {
   "cell_type": "code",
   "execution_count": null,
   "metadata": {},
   "outputs": [],
   "source": [
    "from sklearn.model_selection import validation_curve\n",
    "\n",
    "train_scores, test_scores = \\\n",
    "    validation_curve(estimator=pipe_lasso,\n",
    "                     X=X_train,\n",
    "                     y=y_train,\n",
    "                     param_name='lasso__alpha',\n",
    "                     param_range=lambdas,\n",
    "                     scoring='neg_mean_squared_error',                 \n",
    "                     cv=3)\n",
    "\n",
    "mse_score = pd.DataFrame({'Train':-train_scores.mean(axis=1),\n",
    "                          'Validation':-test_scores.mean(axis=1),\n",
    "                          'lambda':lambdas})\\\n",
    "              .set_index('lambda')   \n",
    "print(mse_score.Validation.nsmallest(1))\n",
    "\n",
    "mse_score.plot(logx=True, logy=True) # optimal hyperparameters"
   ]
  },
  {
   "cell_type": "code",
   "execution_count": null,
   "metadata": {},
   "outputs": [],
   "source": [
    "# Measures for classification accuracy\n",
    "\n",
    "# accuracy = true/(true + false)\n",
    "\n",
    "from sklearn.metrics import precision_score, recall_score, f1_score\n",
    "\n",
    "# recall = share of correct answers\n",
    "# precision = condition on own predictions (could be 100% even though the share of correct predictions is small)\n",
    "# high recall = low false positive rate\n",
    "\n",
    "# nested cross-validation \n",
    "# test the model 5 times (fig.), in the inner we make the validation to get optimal hyperparameters"
   ]
  },
  {
   "cell_type": "code",
   "execution_count": null,
   "metadata": {},
   "outputs": [],
   "source": []
  }
 ],
 "metadata": {
  "kernelspec": {
   "display_name": "Python 3",
   "language": "python",
   "name": "python3"
  },
  "language_info": {
   "codemirror_mode": {
    "name": "ipython",
    "version": 3
   },
   "file_extension": ".py",
   "mimetype": "text/x-python",
   "name": "python",
   "nbconvert_exporter": "python",
   "pygments_lexer": "ipython3",
   "version": "3.7.1"
  },
  "toc": {
   "base_numbering": "1",
   "nav_menu": {},
   "number_sections": true,
   "sideBar": true,
   "skip_h1_title": true,
   "title_cell": "Table of Contents",
   "title_sidebar": "Contents",
   "toc_cell": false,
   "toc_position": {
    "height": "calc(100% - 180px)",
    "left": "10px",
    "top": "150px",
    "width": "336px"
   },
   "toc_section_display": true,
   "toc_window_display": true
  },
  "varInspector": {
   "cols": {
    "lenName": 16,
    "lenType": 16,
    "lenVar": 40
   },
   "kernels_config": {
    "python": {
     "delete_cmd_postfix": "",
     "delete_cmd_prefix": "del ",
     "library": "var_list.py",
     "varRefreshCmd": "print(var_dic_list())"
    },
    "r": {
     "delete_cmd_postfix": ") ",
     "delete_cmd_prefix": "rm(",
     "library": "var_list.r",
     "varRefreshCmd": "cat(var_dic_list()) "
    }
   },
   "types_to_exclude": [
    "module",
    "function",
    "builtin_function_or_method",
    "instance",
    "_Feature"
   ],
   "window_display": false
  }
 },
 "nbformat": 4,
 "nbformat_minor": 2
}
