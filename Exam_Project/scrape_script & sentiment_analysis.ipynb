{
 "cells": [
  {
   "cell_type": "code",
   "execution_count": 83,
   "metadata": {},
   "outputs": [],
   "source": [
    "#Necessary imports\n",
    "import PyPDF2\n",
    "import os\n",
    "import requests\n",
    "import numpy as np, seaborn as sns, pandas as pd\n",
    "import nltk, nltk.sentiment, sklearn\n",
    "%matplotlib inline\n"
   ]
  },
  {
   "cell_type": "code",
   "execution_count": 69,
   "metadata": {},
   "outputs": [],
   "source": [
    "#PDF path directory\n",
    "pdf_path = '/Users/Matias/documents/SDS-Group-35/Exam_Project/Minutes_PDF/pro_penningpolitiskt_161220_eng.pdf'"
   ]
  },
  {
   "cell_type": "code",
   "execution_count": 70,
   "metadata": {},
   "outputs": [
    {
     "data": {
      "text/plain": [
       "30"
      ]
     },
     "execution_count": 70,
     "metadata": {},
     "output_type": "execute_result"
    }
   ],
   "source": [
    "#PDF extractor script. Creates a list separated per page.\n",
    "def pdf_extractor(path):\n",
    "    pdf_file = open(path, 'rb')\n",
    "    read_pdf = PyPDF2.PdfFileReader(pdf_file)\n",
    "    number_of_pages = read_pdf.getNumPages()\n",
    "    c = collections.Counter(range(number_of_pages))\n",
    "    res1 = []\n",
    "    for i in range(len(c)):\n",
    "        page = read_pdf.getPage(i)\n",
    "        page_content = page.extractText()\n",
    "        res1.append(page_content)\n",
    "    return res1\n",
    "   \n",
    "\n",
    "doc1 = pdf_extractor(pdf_path)\n",
    "len(doc1)"
   ]
  },
  {
   "cell_type": "code",
   "execution_count": 79,
   "metadata": {},
   "outputs": [],
   "source": [
    "#Create set for negative and positive lexicon\n",
    "negative = set(requests.get('http://ptrckprry.com/course/ssd/data/negative-words.txt').text.split(';;;;;;;;;;;;;;;;;;;;;;;;;;;;;;;;;;;;;;;;;;;;;;;;;;;;;;;;;;;;;;;;;;;;;;;;;;;;;;')[2].split('\\n')[2:])\n",
    "positive = set(requests.get('http://ptrckprry.com/course/ssd/data/positive-words.txt').text.split(';;;;;;;;;;;;;;;;;;;;;;;;;;;;;;;;;;;;;;;;;;;;;;;;;;;;;;;;;;;;;;;;;;;;;;;;;;;;')[2].split('\\n')[2:])"
   ]
  },
  {
   "cell_type": "code",
   "execution_count": 92,
   "metadata": {},
   "outputs": [],
   "source": [
    "#covert list to pd.series\n",
    "doc1_str = pd.Series([''.join(doc1)])\n",
    "\n",
    "#Preprocessing - tokenize and lower case pdf-strings\n",
    "tokenizer = nltk.tokenize.TweetTokenizer()\n",
    "def preprocessing(string):\n",
    "    string = string.lower()\n",
    "    string = tokenizer.tokenize(string)\n",
    "    return string\n",
    "\n",
    "#Apply positive/negative sets on pdf-string\n",
    "tok_doc1 = doc1_str.apply(preprocessing)\n",
    "\n",
    "def count_dictionary(document_elem, dictionary):\n",
    "    lst = []\n",
    "    for word in document_elem:\n",
    "        if (word in dictionary):\n",
    "            lst.append(word)\n",
    "    return len(lst),lst\n",
    "\n",
    "\n",
    "positive_words = [count_dictionary(elem, positive) for elem in tok_doc1]\n",
    "negative_words = [count_dictionary(elem, negative) for elem in tok_doc1]"
   ]
  }
 ],
 "metadata": {
  "kernelspec": {
   "display_name": "Python 3",
   "language": "python",
   "name": "python3"
  },
  "language_info": {
   "codemirror_mode": {
    "name": "ipython",
    "version": 3
   },
   "file_extension": ".py",
   "mimetype": "text/x-python",
   "name": "python",
   "nbconvert_exporter": "python",
   "pygments_lexer": "ipython3",
   "version": "3.7.1"
  }
 },
 "nbformat": 4,
 "nbformat_minor": 2
}
