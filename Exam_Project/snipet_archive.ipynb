{
 "cells": [
  {
   "cell_type": "code",
   "execution_count": 1,
   "metadata": {},
   "outputs": [
    {
     "ename": "NameError",
     "evalue": "name 'pdf_path' is not defined",
     "output_type": "error",
     "traceback": [
      "\u001b[0;31m---------------------------------------------------------------------------\u001b[0m",
      "\u001b[0;31mNameError\u001b[0m                                 Traceback (most recent call last)",
      "\u001b[0;32m<ipython-input-1-7a6f297bcd98>\u001b[0m in \u001b[0;36m<module>\u001b[0;34m\u001b[0m\n\u001b[1;32m      9\u001b[0m     \u001b[0;32mreturn\u001b[0m \u001b[0mres\u001b[0m\u001b[0;34m\u001b[0m\u001b[0;34m\u001b[0m\u001b[0m\n\u001b[1;32m     10\u001b[0m \u001b[0;34m\u001b[0m\u001b[0m\n\u001b[0;32m---> 11\u001b[0;31m \u001b[0mtest\u001b[0m \u001b[0;34m=\u001b[0m \u001b[0mpdf_extractor\u001b[0m\u001b[0;34m(\u001b[0m\u001b[0mpdf_path\u001b[0m\u001b[0;34m)\u001b[0m\u001b[0;34m\u001b[0m\u001b[0;34m\u001b[0m\u001b[0m\n\u001b[0m",
      "\u001b[0;31mNameError\u001b[0m: name 'pdf_path' is not defined"
     ]
    }
   ],
   "source": [
    "#Original scrape script\n",
    "def pdf_extractor(path):\n",
    "    with open(path, mode='rb') as f:\n",
    "        reader = PyPDF2.PdfFileReader(f)\n",
    "        res = []\n",
    "        for page in reader.pages:\n",
    "            page = reader.getPage(1)\n",
    "            res.append(page.extractText())\n",
    "    return res\n",
    "\n",
    "test = pdf_extractor(pdf_path)"
   ]
  },
  {
   "cell_type": "code",
   "execution_count": null,
   "metadata": {},
   "outputs": [],
   "source": [
    "#url = 'http://archive.riksbank.se/Documents/Protokoll/Penningpolitiskt/2016/pro_penningpolitiskt_161220_eng.pdf'\n",
    "#urls = []\n",
    "#for url in urls:\n",
    "#def url_response(url):\n",
    "\n",
    "    #path, url = url\n",
    "    #r = requests.get(url, stream = True)\n",
    "    #with open(path, 'wb') as f:\n",
    "        #for ch in r:\n",
    "            #f.write(ch)"
   ]
  }
 ],
 "metadata": {
  "kernelspec": {
   "display_name": "Python 3",
   "language": "python",
   "name": "python3"
  },
  "language_info": {
   "codemirror_mode": {
    "name": "ipython",
    "version": 3
   },
   "file_extension": ".py",
   "mimetype": "text/x-python",
   "name": "python",
   "nbconvert_exporter": "python",
   "pygments_lexer": "ipython3",
   "version": "3.7.1"
  }
 },
 "nbformat": 4,
 "nbformat_minor": 2
}
