{
 "cells": [
  {
   "cell_type": "code",
   "execution_count": 51,
   "metadata": {},
   "outputs": [],
   "source": [
    "import PyPDF2\n",
    "import os\n",
    "pdf_path = 'documents/pro_penningpolitiskt_161220_eng.pdf'"
   ]
  },
  {
   "cell_type": "code",
   "execution_count": 92,
   "metadata": {
    "scrolled": true
   },
   "outputs": [],
   "source": [
    "#Original script\n",
    "def pdf_extractor(path):\n",
    "    with open(path, mode='rb') as f:\n",
    "        reader = PyPDF2.PdfFileReader(f)\n",
    "        res = []\n",
    "        for page in reader.pages:\n",
    "            page = reader.getPage(1)\n",
    "            res.append(page.extractText())\n",
    "    return res\n",
    "\n",
    "test = pdf_extractor(pdf_path)\n"
   ]
  },
  {
   "cell_type": "code",
   "execution_count": 90,
   "metadata": {},
   "outputs": [
    {
     "ename": "AttributeError",
     "evalue": "'PdfFileReader' object has no attribute 'getPages'",
     "output_type": "error",
     "traceback": [
      "\u001b[0;31m---------------------------------------------------------------------------\u001b[0m",
      "\u001b[0;31mAttributeError\u001b[0m                            Traceback (most recent call last)",
      "\u001b[0;32m<ipython-input-90-4af8046bbf41>\u001b[0m in \u001b[0;36m<module>\u001b[0;34m\u001b[0m\n\u001b[1;32m      9\u001b[0m     \u001b[0;32mreturn\u001b[0m \u001b[0mres\u001b[0m\u001b[0;34m\u001b[0m\u001b[0;34m\u001b[0m\u001b[0m\n\u001b[1;32m     10\u001b[0m \u001b[0;34m\u001b[0m\u001b[0m\n\u001b[0;32m---> 11\u001b[0;31m \u001b[0mtest\u001b[0m \u001b[0;34m=\u001b[0m \u001b[0mpdf_extractor\u001b[0m\u001b[0;34m(\u001b[0m\u001b[0mpdf_path\u001b[0m\u001b[0;34m)\u001b[0m\u001b[0;34m\u001b[0m\u001b[0;34m\u001b[0m\u001b[0m\n\u001b[0m\u001b[1;32m     12\u001b[0m \u001b[0mtest\u001b[0m\u001b[0;34m\u001b[0m\u001b[0;34m\u001b[0m\u001b[0m\n",
      "\u001b[0;32m<ipython-input-90-4af8046bbf41>\u001b[0m in \u001b[0;36mpdf_extractor\u001b[0;34m(path)\u001b[0m\n\u001b[1;32m      5\u001b[0m         \u001b[0mres\u001b[0m \u001b[0;34m=\u001b[0m \u001b[0;34m[\u001b[0m\u001b[0;34m]\u001b[0m\u001b[0;34m\u001b[0m\u001b[0;34m\u001b[0m\u001b[0m\n\u001b[1;32m      6\u001b[0m         \u001b[0;32mfor\u001b[0m \u001b[0mpage\u001b[0m \u001b[0;32min\u001b[0m \u001b[0mreader\u001b[0m\u001b[0;34m.\u001b[0m\u001b[0mpages\u001b[0m\u001b[0;34m:\u001b[0m\u001b[0;34m\u001b[0m\u001b[0;34m\u001b[0m\u001b[0m\n\u001b[0;32m----> 7\u001b[0;31m             \u001b[0mpage\u001b[0m \u001b[0;34m=\u001b[0m \u001b[0mreader\u001b[0m\u001b[0;34m.\u001b[0m\u001b[0mgetPages\u001b[0m\u001b[0;34m(\u001b[0m\u001b[0;34m)\u001b[0m\u001b[0;34m\u001b[0m\u001b[0;34m\u001b[0m\u001b[0m\n\u001b[0m\u001b[1;32m      8\u001b[0m             \u001b[0mres\u001b[0m\u001b[0;34m.\u001b[0m\u001b[0mappend\u001b[0m\u001b[0;34m(\u001b[0m\u001b[0mpage\u001b[0m\u001b[0;34m.\u001b[0m\u001b[0mextractText\u001b[0m\u001b[0;34m(\u001b[0m\u001b[0;34m)\u001b[0m\u001b[0;34m)\u001b[0m\u001b[0;34m\u001b[0m\u001b[0;34m\u001b[0m\u001b[0m\n\u001b[1;32m      9\u001b[0m     \u001b[0;32mreturn\u001b[0m \u001b[0mres\u001b[0m\u001b[0;34m\u001b[0m\u001b[0;34m\u001b[0m\u001b[0m\n",
      "\u001b[0;31mAttributeError\u001b[0m: 'PdfFileReader' object has no attribute 'getPages'"
     ]
    }
   ],
   "source": [
    "\n",
    "import collections\n",
    "def pdf_extractor(path):\n",
    "    with open(path, mode='rb') as f:\n",
    "        reader = PyPDF2.PdfFileReader(f)\n",
    "        res = []\n",
    "        for page in reader.pages:\n",
    "            for i in \n",
    "            page = reader.getPage(i)\n",
    "            res.append(page.extractText())\n",
    "    return res\n",
    "\n",
    "test = pdf_extractor(pdf_path)\n",
    "test"
   ]
  },
  {
   "cell_type": "code",
   "execution_count": null,
   "metadata": {},
   "outputs": [],
   "source": []
  },
  {
   "cell_type": "code",
   "execution_count": 113,
   "metadata": {},
   "outputs": [
    {
     "data": {
      "text/plain": [
       "[' Summary',\n",
       " '  At the monetary policy meeting on 20 December, the Executive Board of the Riksbank decided to ',\n",
       " 'continue purchasing government',\n",
       " ' bonds during the first six months of 2017, both nominal and real bonds, ',\n",
       " 'each corresponding to SEK 15 billion. In addition, reinvestments of maturities and coupon payments on ',\n",
       " 'the government bond portfolio will amount to around SEK 30 billion during 2017. T',\n",
       " 'he repo rate is ',\n",
       " '',\n",
       " 'be raised in the near term. Increases in the repo rate are not expected to begin until the beginning of ',\n",
       " '2018. It was noted at the meeting that ',\n",
       " 'the Executive Board agreed on the picture of economic developments ',\n",
       " 'in Sweden and abroad, and the outlook for inflation described in the draft Monetary Policy Report.',\n",
       " ' Since the previous monetary policy meeting in October, th',\n",
       " 'e economic outlook abroad has brightened ',\n",
       " 'somewhat. However, developments ahead are fraught with uncertainty, which is noted in different ',\n",
       " 'ways during the meeting and was also made clear in the account of questions discussed during the ',\n",
       " 'drafting process.',\n",
       " ' In S',\n",
       " \"weden, the Riksbank's monetary policy, with a negative repo rate and purchases of government \",\n",
       " 'bonds, has contributed to a high level of growth, falling unemployment, higher inflation and rising ',\n",
       " 'inflation expectations, not least in the longer run where infla',\n",
       " 'tion expectations are now close to 2 per ',\n",
       " 'cent. The strong economic activity means there are good conditions for inflation to continue rising. It is ',\n",
       " '',\n",
       " 'expected to reach 2 per cent in the middle of 2018, more or less regardless of which measure of ',\n",
       " 'inflation on',\n",
       " 'e uses.',\n",
       " ' But there are still risks that can jeopardise the upturn in inflation. The outcomes for inflation have been ',\n",
       " 'lower than expected in recent months and this illustrates the uncertainty over how quickly inflation will ',\n",
       " 'rise. It is difficult to know, for',\n",
       " ' instance, how the krona exchange rate will develop in an environment ',\n",
       " 'where the ECB has extended its asset purchase programme and the Federal Reserve has raised its policy ',\n",
       " 'rate. A slow appreciation is expected going forward, and it is important to the uptu',\n",
       " 'rn in inflation that ',\n",
       " 'this appreciation is slow.',\n",
       " ' All of the Executive Board members assessed that it was now appropriate to hold the repo rate ',\n",
       " 'unchanged at ',\n",
       " 'Œ0.50',\n",
       " ' per cent and to reinvest maturities and coupon payments on the government bond ',\n",
       " 'portfolio until ',\n",
       " 'further notice. During 2017 these are unevenly distributed over the year, so the ',\n",
       " 'reinvestments should be spread out. The discussions also concerned the repo',\n",
       " '-rate path, but there were ',\n",
       " 'only very slight differences in the members™ opinions and all supported t',\n",
       " 'he proposed repo',\n",
       " '-rate path in ',\n",
       " 'the draft Monetary Policy Report. Increases in the repo rate are not expected to begin until the start of ',\n",
       " '2018. ',\n",
       " ' ']"
      ]
     },
     "execution_count": 113,
     "metadata": {},
     "output_type": "execute_result"
    }
   ],
   "source": [
    "import PyPDF2\n",
    "import collections\n",
    "\n",
    "def pdf_extractor(path):\n",
    "    pdf_file = open(path, 'rb')\n",
    "    read_pdf = PyPDF2.PdfFileReader(pdf_file)\n",
    "    number_of_pages = read_pdf.getNumPages()\n",
    "    c = collections.Counter(range(number_of_pages))\n",
    "    res1 = []\n",
    "    for i in range(len(c)):\n",
    "        page = read_pdf.getPage(i)\n",
    "        page_content = page.extractText()\n",
    "        res1.append(page_content)\n",
    "    return res1\n",
    "   #print page_content.encode('utf-8')\n",
    "\n",
    "pdf_extractor(pdf_path)[1].split('\\n')"
   ]
  },
  {
   "cell_type": "code",
   "execution_count": null,
   "metadata": {},
   "outputs": [],
   "source": []
  }
 ],
 "metadata": {
  "kernelspec": {
   "display_name": "Python 3",
   "language": "python",
   "name": "python3"
  },
  "language_info": {
   "codemirror_mode": {
    "name": "ipython",
    "version": 3
   },
   "file_extension": ".py",
   "mimetype": "text/x-python",
   "name": "python",
   "nbconvert_exporter": "python",
   "pygments_lexer": "ipython3",
   "version": "3.7.1"
  }
 },
 "nbformat": 4,
 "nbformat_minor": 2
}
